{
 "cells": [
  {
   "cell_type": "code",
   "execution_count": 48,
   "metadata": {},
   "outputs": [],
   "source": [
    "import json\n",
    "import pandas as pd\n",
    "import numpy as np\n",
    "\n",
    "import os"
   ]
  },
  {
   "cell_type": "code",
   "execution_count": 49,
   "metadata": {},
   "outputs": [],
   "source": [
    "\n",
    "import json\n",
    "import pandas as pd\n",
    "import numpy as np\n",
    "\n",
    "def load_data(path):\n",
    "    with open(path, 'r') as file:\n",
    "        data = json.load(file)\n",
    "\n",
    "    parsed_data = {}\n",
    "    for key, value in data.items():\n",
    "        # Check if the value is a list\n",
    "        if isinstance(value, list):\n",
    "            try:\n",
    "                # Attempt to convert to a NumPy array\n",
    "                subfield = np.array(value)\n",
    "\n",
    "                if subfield.ndim == 1:  # 1D array\n",
    "                    parsed_data[key] = pd.Series(value)\n",
    "                elif subfield.ndim == 2:  # 2D array\n",
    "                    parsed_data[key] = pd.DataFrame(value)\n",
    "                else:  # Higher-dimensional array\n",
    "                    parsed_data[key] = {i: pd.DataFrame(subarray) for i, subarray in enumerate(subfield)}\n",
    "            except ValueError:\n",
    "                # If conversion fails, handle as a dictionary of DataFrames\n",
    "                parsed_data[key] = {i: pd.DataFrame(subarray) for i, subarray in enumerate(value) if isinstance(subarray, list)}\n",
    "        else:\n",
    "            # For non-list data, store it as-is\n",
    "            parsed_data[key] = value\n",
    "\n",
    "    return parsed_data"
   ]
  },
  {
   "cell_type": "code",
   "execution_count": 50,
   "metadata": {},
   "outputs": [],
   "source": [
    "# Path to your JSON file\n",
    "# Define the directories\n",
    "results_dir = \"results\"   \n",
    "results_csv_dir = \"results_csv\" \n",
    "\n",
    "# Create the results_csv directory if it doesn't exist\n",
    "os.makedirs(results_csv_dir, exist_ok=True)\n",
    "# Process each JSON file in the results directory\n",
    "for filename in os.listdir(results_dir):\n",
    "    if filename.endswith(\".json\"):\n",
    "        file_path = os.path.join(results_dir, filename)\n",
    "        \n",
    "        # Parse the JSON data\n",
    "        parsed_data = load_data(file_path)\n",
    "\n",
    "        # Get the subfolder name (without .json)\n",
    "        subfolder_name = os.path.splitext(filename)[0]\n",
    "        subfolder_name = subfolder_name[subfolder_name.find('_')+1:] if '_' in subfolder_name else subfolder_name\n",
    "        subfolder_path = os.path.join(results_csv_dir, subfolder_name)\n",
    "        \n",
    "        # Create the subfolder\n",
    "        os.makedirs(subfolder_path, exist_ok=True)\n",
    "\n",
    "        # Save all Dw matrices to CSV\n",
    "        if 'all_Dw' in parsed_data:\n",
    "            for i, dw_matrix in parsed_data['all_Dw'].items():\n",
    "                dw_csv_path = os.path.join(subfolder_path, f\"Dw_{i}.csv\")\n",
    "                dw_matrix.to_csv(dw_csv_path, index=False, header=False)  # Exclude index and header\n",
    "\n",
    "        # Save all Dkl matrices to CSV\n",
    "        if 'all_Dkl' in parsed_data:\n",
    "            for i, dkl_matrix in parsed_data['all_Dkl'].items():\n",
    "                dkl_csv_path = os.path.join(subfolder_path, f\"Dkl_{i}.csv\")\n",
    "                dkl_matrix.to_csv(dkl_csv_path, index=False, header=False)  # Exclude index and header\n"
   ]
  },
  {
   "cell_type": "code",
   "execution_count": null,
   "metadata": {},
   "outputs": [],
   "source": []
  }
 ],
 "metadata": {
  "kernelspec": {
   "display_name": "base",
   "language": "python",
   "name": "python3"
  },
  "language_info": {
   "codemirror_mode": {
    "name": "ipython",
    "version": 3
   },
   "file_extension": ".py",
   "mimetype": "text/x-python",
   "name": "python",
   "nbconvert_exporter": "python",
   "pygments_lexer": "ipython3",
   "version": "3.10.12"
  }
 },
 "nbformat": 4,
 "nbformat_minor": 2
}
