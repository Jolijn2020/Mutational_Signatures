{
 "cells": [
  {
   "cell_type": "code",
   "execution_count": 3,
   "id": "initial_id",
   "metadata": {
    "ExecuteTime": {
     "end_time": "2024-11-11T09:10:00.470801500Z",
     "start_time": "2024-11-11T09:09:59.504546Z"
    },
    "collapsed": true
   },
   "outputs": [],
   "source": [
    "import SimulateData"
   ]
  },
  {
   "cell_type": "code",
   "execution_count": null,
   "id": "af5d7034",
   "metadata": {},
   "outputs": [
    {
     "name": "stdout",
     "output_type": "stream",
     "text": [
      "Sucessfully saved simulated data in simulated_data/data_v1_GRCh37_4_6_7a_9_18.csv\n",
      "Sucessfully saved meta-data in simulated_data/config_v1.json\n",
      "\n",
      "           0    1    2    3    4    5    6    7    8    9\n",
      "Type                                                     \n",
      "A[C>A]A  516  728  526  258  210  797  906  134  110  169\n",
      "A[C>A]C  518  592  454  159  192  882  839   77   94  182\n",
      "A[C>A]G  459  576  346  130  173  766  660   62   77  158\n",
      "A[C>A]T  494  621  446  190  201  816  781   98   81  167\n",
      "A[C>G]A  444  494  352  145  157  843  531   66   56  158\n"
     ]
    }
   ],
   "source": [
    "config = {\n",
    "    \"signatures_file_path\":     'cosmic_signatures/COSMIC_v3.4_SBS_GRCh37.txt',\n",
    "    \"signatures_to_extract\":    ['SBS4', 'SBS6', 'SBS7a','SBS9','SBS18'],\n",
    "    \"n_samples\":                10,\n",
    "    \"save_dir\":                 'simulated_data',\n",
    "    'sample_signature_distribution': {\n",
    "        'distribution':             'uniform',\n",
    "        'min':                      0.5,\n",
    "        'max':                      2,\n",
    "        'use_sign_active_prob':     True,\n",
    "        'sign_active_prob':         0.4,    # Only used if use_sign_active_prob is True\n",
    "        'n_sign_active':            2       # Only used if use_sign_active_prob is False\n",
    "    },\n",
    "    'noise_distribution': {\n",
    "        'distribution':             'poisson',\n",
    "        'avg_perc':                 0.05,\n",
    "    },\n",
    "    'counts_distribution': {\n",
    "        'distribution':             'logscale',\n",
    "        'min':                      1000,\n",
    "        'max':                      50000,\n",
    "    }\n",
    "}\n",
    "\n",
    "simulated_data, data_file, config_file = SimulateData.simulate_data(config)\n",
    "print('')\n",
    "print(simulated_data.head())"
   ]
  }
 ],
 "metadata": {
  "kernelspec": {
   "display_name": "venv",
   "language": "python",
   "name": "python3"
  },
  "language_info": {
   "codemirror_mode": {
    "name": "ipython",
    "version": 3
   },
   "file_extension": ".py",
   "mimetype": "text/x-python",
   "name": "python",
   "nbconvert_exporter": "python",
   "pygments_lexer": "ipython3",
   "version": "3.12.0"
  }
 },
 "nbformat": 4,
 "nbformat_minor": 5
}
