{
 "cells": [
  {
   "cell_type": "code",
   "execution_count": null,
   "id": "initial_id",
   "metadata": {
    "ExecuteTime": {
     "end_time": "2024-11-11T09:10:00.470801500Z",
     "start_time": "2024-11-11T09:09:59.504546Z"
    },
    "collapsed": true
   },
   "outputs": [],
   "source": [
    "import os\n",
    "\n",
    "import SimulateData"
   ]
  },
  {
   "cell_type": "code",
   "execution_count": null,
   "id": "af5d7034",
   "metadata": {},
   "outputs": [],
   "source": [
    "config = {\n",
    "    \"signatures_file_path\":     os.path.join('cosmic_signatures', 'COSMIC_v3.4_SBS_GRCh37.txt'),\n",
    "    \"signatures_to_extract\":    ['SBS4', 'SBS6', 'SBS7a','SBS9','SBS18'],\n",
    "    \"n_samples\":                30,\n",
    "    \"average_noise\":            10,\n",
    "    \"save_dir\":                 'simulated_data',\n",
    "    'sample_signature_distribution': {\n",
    "        'distribution':             'uniform',\n",
    "        'min':                      0.5,\n",
    "        'max':                      2,\n",
    "        'use_sign_active_prob':    True,\n",
    "        'sign_active_prob':         0.4\n",
    "    },\n",
    "    'noise_distribution': {\n",
    "        'distribution':             'poisson',\n",
    "        'avg':                      10,\n",
    "    },\n",
    "    'counts_distribution': {\n",
    "        'distribution':             'logscale',\n",
    "        'min':                      1000,\n",
    "        'max':                      50000,\n",
    "    }\n",
    "}\n",
    "\n",
    "simulated_data, data_file, config_file = SimulateData.simulate_data(config)\n",
    "print('')\n",
    "print(data_file)\n",
    "print(config_file)\n",
    "print('')\n",
    "print(simulated_data.head())"
   ]
  }
 ],
 "metadata": {
  "kernelspec": {
   "display_name": "venv",
   "language": "python",
   "name": "python3"
  },
  "language_info": {
   "codemirror_mode": {
    "name": "ipython",
    "version": 3
   },
   "file_extension": ".py",
   "mimetype": "text/x-python",
   "name": "python",
   "nbconvert_exporter": "python",
   "pygments_lexer": "ipython3",
   "version": "3.12.0"
  }
 },
 "nbformat": 4,
 "nbformat_minor": 5
}
