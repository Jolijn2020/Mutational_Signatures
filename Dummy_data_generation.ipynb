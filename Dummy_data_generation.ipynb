{
 "cells": [
  {
   "cell_type": "code",
   "execution_count": 1,
   "id": "initial_id",
   "metadata": {
    "ExecuteTime": {
     "end_time": "2025-01-06T08:50:07.149958700Z",
     "start_time": "2025-01-06T08:50:05.333851300Z"
    },
    "collapsed": true
   },
   "outputs": [],
   "source": [
    "import SimulateData"
   ]
  },
  {
   "cell_type": "code",
   "execution_count": null,
   "id": "af5d7034",
   "metadata": {
    "ExecuteTime": {
     "end_time": "2025-01-06T08:40:37.206255500Z",
     "start_time": "2025-01-06T08:40:37.005292Z"
    }
   },
   "outputs": [],
   "source": [
    "config = {\n",
    "    \"signatures_file_path\":     'cosmic_signatures/COSMIC_v3.4_SBS_GRCh37.txt',\n",
    "    \"signatures_to_extract\":    ['SBS4', 'SBS6', 'SBS7a','SBS9','SBS18'],\n",
    "    \"n_samples\":                10,\n",
    "    \"save_dir\":                 'simulated_data',\n",
    "    'sample_signature_distribution': {\n",
    "        'distribution':             'uniform',\n",
    "        'min':                      0.5,\n",
    "        'max':                      2,\n",
    "        'use_sign_active_prob':     True,\n",
    "        'sign_active_prob':         0.4,    # Only used if use_sign_active_prob is True\n",
    "        'n_sign_active':            2       # Only used if use_sign_active_prob is False\n",
    "    },\n",
    "    'noise_distribution': {\n",
    "        'distribution':             'poisson',\n",
    "        'avg_perc':                 0.05,\n",
    "    },\n",
    "    'counts_distribution': {\n",
    "        'distribution':             'logscale',\n",
    "        'min':                      1000,\n",
    "        'max':                      50000,\n",
    "    }\n",
    "}\n",
    "\n",
    "simulated_data, data_file, config_file = SimulateData.simulate_data(config)"
   ]
  },
  {
   "cell_type": "code",
   "execution_count": null,
   "id": "4e12f9d927565c51",
   "metadata": {
    "ExecuteTime": {
     "end_time": "2025-01-06T08:55:10.992070Z",
     "start_time": "2025-01-06T08:55:10.876729700Z"
    },
    "collapsed": false
   },
   "outputs": [],
   "source": [
    "config = {\n",
    "    \"signatures_file_path\":     'cosmic_signatures/COSMIC_v3.4_SBS_GRCh37.txt',\n",
    "    \"signatures_to_extract\":    ['SBS4', 'SBS6', 'SBS7a','SBS9','SBS18'], # TODO: adjust to be new signatures\n",
    "    \"n_samples\":                50,\n",
    "    \"save_dir\":                 'simulated_data/experiment_noise_1',\n",
    "    'sample_signature_distribution': {\n",
    "        'distribution':             'uniform',\n",
    "        'min':                      0.5,\n",
    "        'max':                      2,\n",
    "        'use_sign_active_prob':     True,\n",
    "        'sign_active_prob':         0.4,    # Only used if use_sign_active_prob is True\n",
    "        'n_sign_active':            2       # Only used if use_sign_active_prob is False\n",
    "    },\n",
    "    'noise_distribution': {\n",
    "        'distribution':             'poisson',\n",
    "        'avg_perc':                 0.05,\n",
    "    },\n",
    "    'counts_distribution': {\n",
    "        'distribution':             'logscale',\n",
    "        'min':                      1000,\n",
    "        'max':                      50000,\n",
    "    }\n",
    "}\n",
    "\n",
    "# loop over all the variables to change\n",
    "noise_avg_list = [0.02, 0.05, 0.08]\n",
    "mutation_count_list = [(500, 25000), (1000, 50000), (2000, 100000)]\n",
    "files = []\n",
    "for avg_perc in noise_avg_list:\n",
    "    config['counts_distribution']['avg_perc'] = avg_perc\n",
    "    for mutation_count in mutation_count_list:\n",
    "        config['noise_distribution']['min'] = mutation_count[0]\n",
    "        config['noise_distribution']['max'] = mutation_count[1]\n",
    "        files.append(SimulateData.simulate_data(config, print=False)[1])\n",
    "\n",
    "print(files)"
   ]
  }
 ],
 "metadata": {
  "kernelspec": {
   "display_name": "venv",
   "language": "python",
   "name": "python3"
  },
  "language_info": {
   "codemirror_mode": {
    "name": "ipython",
    "version": 3
   },
   "file_extension": ".py",
   "mimetype": "text/x-python",
   "name": "python",
   "nbconvert_exporter": "python",
   "pygments_lexer": "ipython3",
   "version": "3.12.0"
  }
 },
 "nbformat": 4,
 "nbformat_minor": 5
}
