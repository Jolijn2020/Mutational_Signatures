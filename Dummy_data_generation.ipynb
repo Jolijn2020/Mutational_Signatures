{
 "cells": [
  {
   "cell_type": "code",
   "execution_count": 3,
   "id": "initial_id",
   "metadata": {
    "ExecuteTime": {
     "end_time": "2024-11-11T09:10:00.470801500Z",
     "start_time": "2024-11-11T09:09:59.504546Z"
    }
   },
   "outputs": [],
   "source": [
    "import SimulateData"
   ]
  },
  {
   "cell_type": "code",
   "execution_count": 4,
   "id": "af5d7034",
   "metadata": {},
   "outputs": [
    {
     "ename": "KeyError",
     "evalue": "'identifier'",
     "output_type": "error",
     "traceback": [
      "\u001b[0;31m---------------------------------------------------------------------------\u001b[0m",
      "\u001b[0;31mKeyError\u001b[0m                                  Traceback (most recent call last)",
      "Cell \u001b[0;32mIn[4], line 25\u001b[0m\n\u001b[1;32m      1\u001b[0m config \u001b[38;5;241m=\u001b[39m {\n\u001b[1;32m      2\u001b[0m     \u001b[38;5;124m\"\u001b[39m\u001b[38;5;124msignatures_file_path\u001b[39m\u001b[38;5;124m\"\u001b[39m:     \u001b[38;5;124m'\u001b[39m\u001b[38;5;124mcosmic_signatures/COSMIC_v3.4_SBS_GRCh37.txt\u001b[39m\u001b[38;5;124m'\u001b[39m,\n\u001b[1;32m      3\u001b[0m     \u001b[38;5;124m\"\u001b[39m\u001b[38;5;124msignatures_to_extract\u001b[39m\u001b[38;5;124m\"\u001b[39m:    [\u001b[38;5;124m'\u001b[39m\u001b[38;5;124mSBS4\u001b[39m\u001b[38;5;124m'\u001b[39m, \u001b[38;5;124m'\u001b[39m\u001b[38;5;124mSBS6\u001b[39m\u001b[38;5;124m'\u001b[39m, \u001b[38;5;124m'\u001b[39m\u001b[38;5;124mSBS7a\u001b[39m\u001b[38;5;124m'\u001b[39m,\u001b[38;5;124m'\u001b[39m\u001b[38;5;124mSBS9\u001b[39m\u001b[38;5;124m'\u001b[39m,\u001b[38;5;124m'\u001b[39m\u001b[38;5;124mSBS18\u001b[39m\u001b[38;5;124m'\u001b[39m],\n\u001b[0;32m   (...)\u001b[0m\n\u001b[1;32m     22\u001b[0m     }\n\u001b[1;32m     23\u001b[0m }\n\u001b[0;32m---> 25\u001b[0m simulated_data, data_file, config_file \u001b[38;5;241m=\u001b[39m \u001b[43mSimulateData\u001b[49m\u001b[38;5;241;43m.\u001b[39;49m\u001b[43msimulate_data\u001b[49m\u001b[43m(\u001b[49m\u001b[43mconfig\u001b[49m\u001b[43m)\u001b[49m\n",
      "File \u001b[0;32m~/Documents/MATLAB/Mutational_Signatures/SimulateData.py:79\u001b[0m, in \u001b[0;36msimulate_data\u001b[0;34m(config, print)\u001b[0m\n\u001b[1;32m     76\u001b[0m \u001b[38;5;66;03m# Simulate the data (including noise)\u001b[39;00m\n\u001b[1;32m     77\u001b[0m simulated_data \u001b[38;5;241m=\u001b[39m calculate_counts(signatures, sample_distributions, config)\n\u001b[0;32m---> 79\u001b[0m data_file, config_file \u001b[38;5;241m=\u001b[39m create_file_names(config[\u001b[38;5;124m'\u001b[39m\u001b[38;5;124msave_dir\u001b[39m\u001b[38;5;124m'\u001b[39m], config[\u001b[38;5;124m'\u001b[39m\u001b[38;5;124msignatures_to_extract\u001b[39m\u001b[38;5;124m'\u001b[39m], config[\u001b[38;5;124m'\u001b[39m\u001b[38;5;124msignatures_file_path\u001b[39m\u001b[38;5;124m'\u001b[39m], \u001b[43mconfig\u001b[49m\u001b[43m[\u001b[49m\u001b[38;5;124;43m'\u001b[39;49m\u001b[38;5;124;43midentifier\u001b[39;49m\u001b[38;5;124;43m'\u001b[39;49m\u001b[43m]\u001b[49m)\n\u001b[1;32m     80\u001b[0m simulated_data\u001b[38;5;241m.\u001b[39mto_csv(data_file, index\u001b[38;5;241m=\u001b[39m\u001b[38;5;28;01mTrue\u001b[39;00m)\n\u001b[1;32m     81\u001b[0m \u001b[38;5;28;01mif\u001b[39;00m \u001b[38;5;28mprint\u001b[39m:\n",
      "\u001b[0;31mKeyError\u001b[0m: 'identifier'"
     ]
    }
   ],
   "source": [
    "config = {\n",
    "    \"signatures_file_path\":     'cosmic_signatures/COSMIC_v3.4_SBS_GRCh37.txt',\n",
    "    \"signatures_to_extract\":    ['SBS4', 'SBS6', 'SBS7a','SBS9','SBS18'],\n",
    "    \"n_samples\":                10,\n",
    "    \"save_dir\":                 'simulated_data',\n",
    "    'sample_signature_distribution': {\n",
    "        'distribution':             'uniform',\n",
    "        'min':                      0.5,\n",
    "        'max':                      2,\n",
    "        'use_sign_active_prob':     True,\n",
    "        'sign_active_prob':         0.4,    # Only used if use_sign_active_prob is True\n",
    "        'n_sign_active':            2       # Only used if use_sign_active_prob is False\n",
    "    },\n",
    "    'noise_distribution': {\n",
    "        'distribution':             'poisson',\n",
    "        'avg_perc':                 0.05,\n",
    "    },\n",
    "    'counts_distribution': {\n",
    "        'distribution':             'logscale',\n",
    "        'min':                      1000,\n",
    "        'max':                      50000,\n",
    "    }\n",
    "}\n",
    "\n",
    "simulated_data, data_file, config_file = SimulateData.simulate_data(config)"
   ]
  },
  {
   "cell_type": "code",
   "execution_count": 7,
   "id": "9c393652",
   "metadata": {},
   "outputs": [
    {
     "name": "stdout",
     "output_type": "stream",
     "text": [
      "['simulated_data/experiment_noise_1/{}_GRCh37_4_6_7a_9_18.csv', 'simulated_data/experiment_noise_1/{}_GRCh37_4_6_7a_9_18.csv', 'simulated_data/experiment_noise_1/{}_GRCh37_4_6_7a_9_18.csv', 'simulated_data/experiment_noise_1/{}_GRCh37_4_6_7a_9_18.csv', 'simulated_data/experiment_noise_1/{}_GRCh37_4_6_7a_9_18.csv', 'simulated_data/experiment_noise_1/{}_GRCh37_4_6_7a_9_18.csv', 'simulated_data/experiment_noise_1/{}_GRCh37_4_6_7a_9_18.csv', 'simulated_data/experiment_noise_1/{}_GRCh37_4_6_7a_9_18.csv', 'simulated_data/experiment_noise_1/{}_GRCh37_4_6_7a_9_18.csv']\n"
     ]
    }
   ],
   "source": [
    "config = {\n",
    "    \"signatures_file_path\":     'cosmic_signatures/COSMIC_v3.4_SBS_GRCh37.txt',\n",
    "    \"signatures_to_extract\":    ['SBS4', 'SBS6', 'SBS7a','SBS9','SBS18'], # TODO: adjust to be new signatures\n",
    "    \"n_samples\":                100,\n",
    "    \"save_dir\":                 'simulated_data/experiment_noise_1',\n",
    "    'sample_signature_distribution': {\n",
    "        'distribution':             'uniform',\n",
    "        'min':                      0.5,\n",
    "        'max':                      2,\n",
    "        'use_sign_active_prob':     True,\n",
    "        'sign_active_prob':         0.4,    # Only used if use_sign_active_prob is True\n",
    "        'n_sign_active':            2       # Only used if use_sign_active_prob is False\n",
    "    },\n",
    "    'noise_distribution': {\n",
    "        'distribution':             'poisson',\n",
    "        'avg_perc':                 0.05,\n",
    "    },\n",
    "    'counts_distribution': {\n",
    "        'distribution':             'logscale',\n",
    "        'min':                      1000,\n",
    "        'max':                      50000,\n",
    "    },\n",
    "    'identifier' : {}\n",
    "}\n",
    "\n",
    "# loop over all the variables to change\n",
    "noise_avg_list = [0.02, 0.04, 0.08]\n",
    "mutation_count_list = [(500, 2000), (2000, 5000), (5000, 8000)]\n",
    "files = []\n",
    "for avg_perc in noise_avg_list:\n",
    "    config['counts_distribution']['avg_perc'] = avg_perc\n",
    "    for mutation_count in mutation_count_list:\n",
    "        config['noise_distribution']['min'] = mutation_count[0]\n",
    "        config['noise_distribution']['max'] = mutation_count[1]\n",
    "        files.append(SimulateData.simulate_data(config, print=False)[1])\n",
    "\n",
    "print(files)"
   ]
  }
 ],
 "metadata": {
  "kernelspec": {
   "display_name": "Python 3",
   "language": "python",
   "name": "python3"
  },
  "language_info": {
   "codemirror_mode": {
    "name": "ipython",
    "version": 3
   },
   "file_extension": ".py",
   "mimetype": "text/x-python",
   "name": "python",
   "nbconvert_exporter": "python",
   "pygments_lexer": "ipython3",
   "version": "3.12.8"
  }
 },
 "nbformat": 4,
 "nbformat_minor": 5
}
