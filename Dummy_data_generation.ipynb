{
 "cells": [
  {
   "cell_type": "code",
   "execution_count": 5,
   "id": "3af4c530",
   "metadata": {},
   "outputs": [],
   "source": [
    "%load_ext autoreload\n",
    "%autoreload 2"
   ]
  },
  {
   "cell_type": "code",
   "execution_count": 1,
   "id": "initial_id",
   "metadata": {
    "ExecuteTime": {
     "end_time": "2024-11-11T09:10:00.470801500Z",
     "start_time": "2024-11-11T09:09:59.504546Z"
    }
   },
   "outputs": [],
   "source": [
    "import SimulateData"
   ]
  },
  {
   "cell_type": "code",
   "execution_count": 2,
   "id": "af5d7034",
   "metadata": {},
   "outputs": [
    {
     "name": "stdout",
     "output_type": "stream",
     "text": [
      "Sucessfully saved simulated data in simulated_data/data_v2_GRCh37_4_6_7a_9_18.csv\n",
      "Sucessfully saved meta-data in simulated_data/config_v2.json\n",
      "\n",
      "           0    1    2     3    4   5     6     7    8    9\n",
      "Type                                                       \n",
      "A[C>A]A  161  213  114  3122  167  67  3057  2027  899  124\n",
      "A[C>A]C  181  152   96  2338  162  58  2400  1888  719   90\n",
      "A[C>A]G  139  147   88  2028  143  47  2150  1505  579   92\n",
      "A[C>A]T  173  171  106  2476  158  58  2496  1839  727  103\n",
      "A[C>G]A  140  157   99  2031  163  59  2109  1508  627   90\n"
     ]
    }
   ],
   "source": [
    "config = {\n",
    "    \"signatures_file_path\":     'cosmic_signatures/COSMIC_v3.4_SBS_GRCh37.txt',\n",
    "    \"signatures_to_extract\":    ['SBS4', 'SBS6', 'SBS7a','SBS9','SBS18'],\n",
    "    \"n_samples\":                10,\n",
    "    \"save_dir\":                 'simulated_data',\n",
    "    'sample_signature_distribution': {\n",
    "        'distribution':             'uniform',\n",
    "        'min':                      0.5,\n",
    "        'max':                      2,\n",
    "        'use_sign_active_prob':     True,\n",
    "        'sign_active_prob':         0.4,    # Only used if use_sign_active_prob is True\n",
    "        'n_sign_active':            2       # Only used if use_sign_active_prob is False\n",
    "    },\n",
    "    'noise_distribution': {\n",
    "        'distribution':             'poisson',\n",
    "        'avg_perc':                 0.05,\n",
    "    },\n",
    "    'counts_distribution': {\n",
    "        'distribution':             'logscale',\n",
    "        'min':                      1000,\n",
    "        'max':                      50000,\n",
    "    }\n",
    "}\n",
    "\n",
    "simulated_data, data_file, config_file = SimulateData.simulate_data(config)\n",
    "print('')\n",
    "print(simulated_data.head())"
   ]
  },
  {
   "cell_type": "code",
   "execution_count": 4,
   "id": "9c393652",
   "metadata": {},
   "outputs": [
    {
     "name": "stdout",
     "output_type": "stream",
     "text": [
      "config_v1.json\tdata_v1_GRCh37_4_6_7a_9_18.csv\r\n",
      "config_v2.json\tdata_v2_GRCh37_4_6_7a_9_18.csv\r\n"
     ]
    }
   ],
   "source": [
    "!ls simulated_data"
   ]
  },
  {
   "cell_type": "code",
   "execution_count": 70,
   "id": "bc5bbeb3",
   "metadata": {},
   "outputs": [],
   "source": [
    "import pandas as pd\n",
    "import random\n",
    "import re\n",
    "signatures = pd.read_csv('cosmic_signatures/COSMIC_v3.4_SBS_GRCh37.txt', sep='\\t')\n",
    "signatures.set_index('Type', inplace=True)\n",
    "signatures = signatures[[x for x in signatures.columns if not re.search(r'SBS5$|SBS40.?$',x)]]\n",
    "\n",
    "import numpy as np\n",
    "\n",
    "\n",
    "orthogonal = dict()\n",
    "for col_name, col_data in signatures.items():\n",
    "    other = signatures.drop(columns=col_name)\n",
    "    other_products = other.apply(lambda x: np.dot(col_data, x))\n",
    "    orthogonal[col_name] = other_products.mean()\n",
    "\n",
    "orthogonal = pd.Series(orthogonal).sort_values(ascending=False)"
   ]
  },
  {
   "cell_type": "code",
   "execution_count": 71,
   "id": "34c81ad7",
   "metadata": {},
   "outputs": [
    {
     "name": "stdout",
     "output_type": "stream",
     "text": [
      "SBS10a SBS56 SBS10d SBS52 SBS36 SBS91 SBS45 SBS38\n",
      "signatures_file_path\n",
      "signatures_to_extract\n",
      "False\n",
      "0.02\n",
      "{'counts_distribution': {'distribution': 'logscale', 'max': 50000, 'min': 1000},\n",
      " 'identifier': 's_8_n_0.02',\n",
      " 'n_samples': 100,\n",
      " 'noise_distribution': {'avg_perc': 0.02, 'distribution': 'poisson'},\n",
      " 'sample_signature_distribution': {'distribution': 'uniform',\n",
      "                                   'max': 2,\n",
      "                                   'min': 0.5,\n",
      "                                   'n_sign_active': 2,\n",
      "                                   'sign_active_prob': 0.4,\n",
      "                                   'use_sign_active_prob': False},\n",
      " 'save_dir': 'simulated_data',\n",
      " 'signatures_file_path': 'cosmic_signatures/COSMIC_v3.4_SBS_GRCh37.txt',\n",
      " 'signatures_to_extract': ['SBS10a',\n",
      "                           'SBS56',\n",
      "                           'SBS10d',\n",
      "                           'SBS52',\n",
      "                           'SBS36',\n",
      "                           'SBS91',\n",
      "                           'SBS45',\n",
      "                           'SBS38']}\n",
      "Sucessfully saved simulated data in simulated_data/s_8_n_0.02_GRCh37_10a_56_10d_52_36_91_45_38.csv\n",
      "Sucessfully saved meta-data in simulated_data/config_s_8_n_0.02_GRCh37_10a_56_10d_52_36_91_45_38.json\n",
      "\n",
      "          0     1    2     3    4   5   6   ...   93   94   95   96  97    98   99\n",
      "Type                                        ...                                   \n",
      "A[C>A]A  374   538  146  1092  199  31  80  ...  457  143  379  102  48  1098  638\n",
      "A[C>A]C  318  1156  133   936  136  25  69  ...  461  114  306  218  49  1789  697\n",
      "A[C>A]G  183   479  110   589  110  19  58  ...  322  100  243   71  41  1000  455\n",
      "A[C>A]T  395   502  127  1032  210  33  62  ...  558  157  465  116  42  1677  844\n",
      "A[C>G]A  184   431  115   595  126  19  47  ...  342   91  247   85  36  1004  473\n",
      "\n",
      "[5 rows x 100 columns]\n",
      "SBS10a SBS56 SBS10d SBS52 SBS36 SBS91 SBS45 SBS38 SBS10c SBS14 SBS18 SBS7b SBS7a SBS23 SBS19\n",
      "signatures_file_path\n",
      "signatures_to_extract\n",
      "False\n",
      "0.02\n",
      "{'counts_distribution': {'distribution': 'logscale', 'max': 50000, 'min': 1000},\n",
      " 'identifier': 's_15_n_0.02',\n",
      " 'n_samples': 100,\n",
      " 'noise_distribution': {'avg_perc': 0.02, 'distribution': 'poisson'},\n",
      " 'sample_signature_distribution': {'distribution': 'uniform',\n",
      "                                   'max': 2,\n",
      "                                   'min': 0.5,\n",
      "                                   'n_sign_active': 2,\n",
      "                                   'sign_active_prob': 0.4,\n",
      "                                   'use_sign_active_prob': False},\n",
      " 'save_dir': 'simulated_data',\n",
      " 'signatures_file_path': 'cosmic_signatures/COSMIC_v3.4_SBS_GRCh37.txt',\n",
      " 'signatures_to_extract': ['SBS10a',\n",
      "                           'SBS56',\n",
      "                           'SBS10d',\n",
      "                           'SBS52',\n",
      "                           'SBS36',\n",
      "                           'SBS91',\n",
      "                           'SBS45',\n",
      "                           'SBS38',\n",
      "                           'SBS10c',\n",
      "                           'SBS14',\n",
      "                           'SBS18',\n",
      "                           'SBS7b',\n",
      "                           'SBS7a',\n",
      "                           'SBS23',\n",
      "                           'SBS19']}\n",
      "Sucessfully saved simulated data in simulated_data/s_15_n_0.02_GRCh37_10a_56_10d_52_36_91_45_38_10c_14_18_7b_7a_23_19.csv\n",
      "Sucessfully saved meta-data in simulated_data/config_s_15_n_0.02_GRCh37_10a_56_10d_52_36_91_45_38_10c_14_18_7b_7a_23_19.json\n",
      "\n",
      "          0    1     2   3    4    5   ...    94   95    96    97   98    99\n",
      "Type                                   ...                                  \n",
      "A[C>A]A  632  333  1436  34  435   93  ...  1207   57  1060  1337   98   603\n",
      "A[C>A]C  600  179   785  28  489  104  ...  1170  114   868  1425  127   875\n",
      "A[C>A]G  394  142   579  28  359   49  ...   790   41   807  1002   82   555\n",
      "A[C>A]T  771  257   903  31  460  109  ...  1111   65   954  1533  103  1304\n",
      "A[C>G]A  430  152   520  29  370   62  ...   790   38   825   995   80   472\n",
      "\n",
      "[5 rows x 100 columns]\n",
      "SBS10a SBS56 SBS10d SBS52 SBS36 SBS91 SBS45 SBS38 SBS10c SBS14 SBS18 SBS7b SBS7a SBS23 SBS19 SBS30 SBS11 SBS95 SBS20 SBS10b SBS58 SBS2 SBS15 SBS42 SBS4\n",
      "signatures_file_path\n",
      "signatures_to_extract\n",
      "False\n",
      "0.02\n",
      "{'counts_distribution': {'distribution': 'logscale', 'max': 50000, 'min': 1000},\n",
      " 'identifier': 's_25_n_0.02',\n",
      " 'n_samples': 100,\n",
      " 'noise_distribution': {'avg_perc': 0.02, 'distribution': 'poisson'},\n",
      " 'sample_signature_distribution': {'distribution': 'uniform',\n",
      "                                   'max': 2,\n",
      "                                   'min': 0.5,\n",
      "                                   'n_sign_active': 2,\n",
      "                                   'sign_active_prob': 0.4,\n",
      "                                   'use_sign_active_prob': False},\n",
      " 'save_dir': 'simulated_data',\n",
      " 'signatures_file_path': 'cosmic_signatures/COSMIC_v3.4_SBS_GRCh37.txt',\n",
      " 'signatures_to_extract': ['SBS10a',\n",
      "                           'SBS56',\n",
      "                           'SBS10d',\n",
      "                           'SBS52',\n",
      "                           'SBS36',\n",
      "                           'SBS91',\n",
      "                           'SBS45',\n",
      "                           'SBS38',\n",
      "                           'SBS10c',\n",
      "                           'SBS14',\n",
      "                           'SBS18',\n",
      "                           'SBS7b',\n",
      "                           'SBS7a',\n",
      "                           'SBS23',\n",
      "                           'SBS19',\n",
      "                           'SBS30',\n",
      "                           'SBS11',\n",
      "                           'SBS95',\n",
      "                           'SBS20',\n",
      "                           'SBS10b',\n",
      "                           'SBS58',\n",
      "                           'SBS2',\n",
      "                           'SBS15',\n",
      "                           'SBS42',\n",
      "                           'SBS4']}\n",
      "Sucessfully saved simulated data in simulated_data/s_25_n_0.02_GRCh37_10a_56_10d_52_36_91_45_38_10c_14_18_7b_7a_23_19_30_11_95_20_10b_58_2_15_42_4.csv\n",
      "Sucessfully saved meta-data in simulated_data/config_s_25_n_0.02_GRCh37_10a_56_10d_52_36_91_45_38_10c_14_18_7b_7a_23_19_30_11_95_20_10b_58_2_15_42_4.json\n",
      "\n",
      "         0     1   2   3   4     5    6   ...   93   94   95    96   97   98  99\n",
      "Type                                      ...                                   \n",
      "A[C>A]A  54  1598  28  79  47  1505  389  ...  381  754   81  1190   31  100  25\n",
      "A[C>A]C  34   926  29  92  22  1203  919  ...  404  615  108  2578   41  116  34\n",
      "A[C>A]G  35   694  31  98  26  1120  378  ...  298  595   49   919   27  112  24\n",
      "A[C>A]T  42  1020  26  87  23  1605  354  ...  339  661   85  1245  110  151  28\n",
      "A[C>G]A  34   689  18  83  28  1014  409  ...  309  508   45   917   42  114  25\n",
      "\n",
      "[5 rows x 100 columns]\n"
     ]
    }
   ],
   "source": [
    "for signature_count in [8, 15, 25]:\n",
    "    signature_list = \" \".join(orthogonal[:signature_count].index)\n",
    "    for noise_level in [0.02, 0.04, 0.06]:\n",
    "        print(signature_list)\n",
    "        identifier = f\"s_{signature_count}_n_{noise_level}\"\n",
    "        !python SimulateData.py --identifier {identifier} --config \"simulated_data/config_v1.json\" --signatures_to_extract $signature_list --noise_distribution_avg_perc $noise_level\n",
    "        break"
   ]
  },
  {
   "cell_type": "code",
   "execution_count": 69,
   "id": "95ab44dd",
   "metadata": {},
   "outputs": [
    {
     "data": {
      "text/plain": [
       "'SBS10a SBS56 SBS10d SBS52 SBS36 SBS91 SBS45 SBS38'"
      ]
     },
     "execution_count": 69,
     "metadata": {},
     "output_type": "execute_result"
    }
   ],
   "source": []
  },
  {
   "cell_type": "code",
   "execution_count": null,
   "id": "05267945",
   "metadata": {},
   "outputs": [],
   "source": []
  }
 ],
 "metadata": {
  "kernelspec": {
   "display_name": "Python 3 (ipykernel)",
   "language": "python",
   "name": "python3"
  },
  "language_info": {
   "codemirror_mode": {
    "name": "ipython",
    "version": 3
   },
   "file_extension": ".py",
   "mimetype": "text/x-python",
   "name": "python",
   "nbconvert_exporter": "python",
   "pygments_lexer": "ipython3",
   "version": "3.10.12"
  }
 },
 "nbformat": 4,
 "nbformat_minor": 5
}
