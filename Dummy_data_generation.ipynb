{
 "cells": [
  {
   "cell_type": "code",
   "execution_count": 14,
   "id": "3af4c530",
   "metadata": {},
   "outputs": [
    {
     "name": "stdout",
     "output_type": "stream",
     "text": [
      "The autoreload extension is already loaded. To reload it, use:\n",
      "  %reload_ext autoreload\n"
     ]
    }
   ],
   "source": [
    "%load_ext autoreload\n",
    "%autoreload 2"
   ]
  },
  {
   "cell_type": "code",
   "execution_count": 15,
   "id": "initial_id",
   "metadata": {
    "ExecuteTime": {
     "end_time": "2024-11-11T09:10:00.470801500Z",
     "start_time": "2024-11-11T09:09:59.504546Z"
    }
   },
   "outputs": [],
   "source": [
    "import SimulateData"
   ]
  },
  {
   "cell_type": "code",
   "execution_count": 16,
   "id": "af5d7034",
   "metadata": {},
   "outputs": [],
   "source": [
    "config = {\n",
    "    \"signatures_file_path\":     'cosmic_signatures/COSMIC_v3.4_SBS_GRCh37.txt',\n",
    "    \"signatures_to_extract\":    ['SBS4', 'SBS6', 'SBS7a','SBS9','SBS18'],\n",
    "    \"n_samples\":                10,\n",
    "    \"save_dir\":                 'simulated_data_01_14',\n",
    "    'sample_signature_distribution': {\n",
    "        'distribution':             'uniform',\n",
    "        'min':                      0.5,\n",
    "        'max':                      2,\n",
    "        'use_sign_active_prob':     True,\n",
    "        'sign_active_prob':         0.4,    # Only used if use_sign_active_prob is True\n",
    "        'n_sign_active':            2       # Only used if use_sign_active_prob is False\n",
    "    },\n",
    "    'noise_distribution': {\n",
    "        'distribution':             'poisson',\n",
    "        'avg_perc':                 0.05,\n",
    "    },\n",
    "    'counts_distribution': {\n",
    "        'cancer_type':              'random', # Specify the cancer_type, or let each sample be a random one from the file 'mutation_counts/TCGA/WES_TCGA.96_min_max.csv'\n",
    "        # 'cancer_type':              'NA',   # If want to not use the cancertype to get the min and max, but fill them in by hand\n",
    "        'distribution':             'logscale',\n",
    "        # 'min':                      1000,   # Only used if cancer_type = NA\n",
    "        # 'max':                      50000,  # Only used if cancer_type = NA\n",
    "    }\n",
    "}"
   ]
  },
  {
   "cell_type": "code",
   "execution_count": 17,
   "id": "9c393652",
   "metadata": {},
   "outputs": [
    {
     "name": "stderr",
     "output_type": "stream",
     "text": [
      "'ls' is not recognized as an internal or external command,\n",
      "operable program or batch file.\n"
     ]
    }
   ],
   "source": [
    "!ls simulated_data"
   ]
  },
  {
   "cell_type": "code",
   "execution_count": 18,
   "id": "bc5bbeb3",
   "metadata": {},
   "outputs": [],
   "source": [
    "import pandas as pd\n",
    "import random\n",
    "import re\n",
    "signatures = pd.read_csv('cosmic_signatures/COSMIC_v3.4_SBS_GRCh37.txt', sep='\\t')\n",
    "signatures.set_index('Type', inplace=True)\n",
    "signatures = signatures[[x for x in signatures.columns if not re.search(r'SBS5$|SBS40.?$',x)]]\n",
    "\n",
    "import numpy as np\n",
    "\n",
    "\n",
    "orthogonal = dict()\n",
    "for col_name, col_data in signatures.items():\n",
    "    other = signatures.drop(columns=col_name)\n",
    "    other_products = other.apply(lambda x: np.dot(col_data, x))\n",
    "    orthogonal[col_name] = other_products.mean()\n",
    "\n",
    "orthogonal = pd.Series(orthogonal).sort_values(ascending=False)"
   ]
  },
  {
   "cell_type": "code",
   "execution_count": 19,
   "id": "34c81ad7",
   "metadata": {},
   "outputs": [],
   "source": [
    "# for signature_count in [8, 15, 25]:\n",
    "#     signature_list = \" \".join(orthogonal[:signature_count].index)\n",
    "#     for noise_level in [0.02, 0.04, 0.06]:\n",
    "#         for mutation_count in [(500, 2000), (2000, 5000), (5000, 8000)]:\n",
    "#             print(signature_list)\n",
    "#             identifier = f\"s_{signature_count}_n_{noise_level}\"\n",
    "#             !python SimulateData.py --identifier {identifier} --config \"simulated_data/config_v1.json\" --signatures_to_extract $signature_list --noise_distribution_avg_perc $noise_level --counts_distribution_min $mutation_count[0] --counts_distribution_max $mutation_count[1]\n",
    "#             break"
   ]
  },
  {
   "cell_type": "code",
   "execution_count": 24,
   "id": "eaa8fe3d",
   "metadata": {},
   "outputs": [
    {
     "name": "stdout",
     "output_type": "stream",
     "text": [
      "SBS10a SBS56 SBS10d SBS52 SBS36 SBS91 SBS45 SBS38\n",
      "signatures_file_path\n",
      "signatures_to_extract\n",
      "False\n",
      "0.06\n",
      "{'counts_distribution': {'cancer_type': 'random', 'distribution': 'logscale'},\n",
      " 'identifier': 's_8_n_0.06',\n",
      " 'n_samples': 10,\n",
      " 'noise_distribution': {'avg_perc': 0.06, 'distribution': 'poisson'},\n",
      " 'sample_signature_distribution': {'distribution': 'uniform',\n",
      "                                   'max': 2,\n",
      "                                   'min': 0.5,\n",
      "                                   'n_sign_active': 2,\n",
      "                                   'sign_active_prob': 0.4,\n",
      "                                   'use_sign_active_prob': False},\n",
      " 'save_dir': 'simulated_data',\n",
      " 'signatures_file_path': 'cosmic_signatures/COSMIC_v3.4_SBS_GRCh37.txt',\n",
      " 'signatures_to_extract': ['SBS10a',\n",
      "                           'SBS56',\n",
      "                           'SBS10d',\n",
      "                           'SBS52',\n",
      "                           'SBS36',\n",
      "                           'SBS91',\n",
      "                           'SBS45',\n",
      "                           'SBS38']}\n",
      "SBS10a SBS56 SBS10d SBS52 SBS36 SBS91 SBS45 SBS38 SBS10c SBS14 SBS18 SBS7b SBS7a SBS23 SBS19\n"
     ]
    },
    {
     "name": "stderr",
     "output_type": "stream",
     "text": [
      "Traceback (most recent call last):\n",
      "  File \"c:\\Files\\github\\Mutational_Signatures\\SimulateData.py\", line 264, in <module>\n",
      "    simulated_data, data_file, config_file = simulate_data(config)\n",
      "                                             ^^^^^^^^^^^^^^^^^^^^^\n",
      "  File \"c:\\Files\\github\\Mutational_Signatures\\SimulateData.py\", line 86, in simulate_data\n",
      "    json.dump(config, f)\n",
      "  File \"C:\\Custom_Program_Files\\programming\\Python\\Python312\\Lib\\json\\__init__.py\", line 179, in dump\n",
      "    for chunk in iterable:\n",
      "  File \"C:\\Custom_Program_Files\\programming\\Python\\Python312\\Lib\\json\\encoder.py\", line 432, in _iterencode\n",
      "    yield from _iterencode_dict(o, _current_indent_level)\n",
      "  File \"C:\\Custom_Program_Files\\programming\\Python\\Python312\\Lib\\json\\encoder.py\", line 406, in _iterencode_dict\n",
      "    yield from chunks\n",
      "  File \"C:\\Custom_Program_Files\\programming\\Python\\Python312\\Lib\\json\\encoder.py\", line 406, in _iterencode_dict\n",
      "    yield from chunks\n",
      "  File \"C:\\Custom_Program_Files\\programming\\Python\\Python312\\Lib\\json\\encoder.py\", line 439, in _iterencode\n",
      "    o = _default(o)\n",
      "        ^^^^^^^^^^^\n",
      "  File \"C:\\Custom_Program_Files\\programming\\Python\\Python312\\Lib\\json\\encoder.py\", line 180, in default\n",
      "    raise TypeError(f'Object of type {o.__class__.__name__} '\n",
      "TypeError: Object of type int64 is not JSON serializable\n"
     ]
    },
    {
     "name": "stdout",
     "output_type": "stream",
     "text": [
      "signatures_file_path\n",
      "signatures_to_extract\n",
      "False\n",
      "0.06\n",
      "{'counts_distribution': {'cancer_type': 'random', 'distribution': 'logscale'},\n",
      " 'identifier': 's_15_n_0.06',\n",
      " 'n_samples': 10,\n",
      " 'noise_distribution': {'avg_perc': 0.06, 'distribution': 'poisson'},\n",
      " 'sample_signature_distribution': {'distribution': 'uniform',\n",
      "                                   'max': 2,\n",
      "                                   'min': 0.5,\n",
      "                                   'n_sign_active': 2,\n",
      "                                   'sign_active_prob': 0.4,\n",
      "                                   'use_sign_active_prob': False},\n",
      " 'save_dir': 'simulated_data',\n",
      " 'signatures_file_path': 'cosmic_signatures/COSMIC_v3.4_SBS_GRCh37.txt',\n",
      " 'signatures_to_extract': ['SBS10a',\n",
      "                           'SBS56',\n",
      "                           'SBS10d',\n",
      "                           'SBS52',\n",
      "                           'SBS36',\n",
      "                           'SBS91',\n",
      "                           'SBS45',\n",
      "                           'SBS38',\n",
      "                           'SBS10c',\n",
      "                           'SBS14',\n",
      "                           'SBS18',\n",
      "                           'SBS7b',\n",
      "                           'SBS7a',\n",
      "                           'SBS23',\n",
      "                           'SBS19']}\n",
      "SBS10a SBS56 SBS10d SBS52 SBS36 SBS91 SBS45 SBS38 SBS10c SBS14 SBS18 SBS7b SBS7a SBS23 SBS19 SBS30 SBS11 SBS95 SBS20 SBS10b SBS58 SBS2 SBS15 SBS42 SBS4\n"
     ]
    },
    {
     "name": "stderr",
     "output_type": "stream",
     "text": [
      "Traceback (most recent call last):\n",
      "  File \"c:\\Files\\github\\Mutational_Signatures\\SimulateData.py\", line 264, in <module>\n",
      "    simulated_data, data_file, config_file = simulate_data(config)\n",
      "                                             ^^^^^^^^^^^^^^^^^^^^^\n",
      "  File \"c:\\Files\\github\\Mutational_Signatures\\SimulateData.py\", line 86, in simulate_data\n",
      "    json.dump(config, f)\n",
      "  File \"C:\\Custom_Program_Files\\programming\\Python\\Python312\\Lib\\json\\__init__.py\", line 179, in dump\n",
      "    for chunk in iterable:\n",
      "  File \"C:\\Custom_Program_Files\\programming\\Python\\Python312\\Lib\\json\\encoder.py\", line 432, in _iterencode\n",
      "    yield from _iterencode_dict(o, _current_indent_level)\n",
      "  File \"C:\\Custom_Program_Files\\programming\\Python\\Python312\\Lib\\json\\encoder.py\", line 406, in _iterencode_dict\n",
      "    yield from chunks\n",
      "  File \"C:\\Custom_Program_Files\\programming\\Python\\Python312\\Lib\\json\\encoder.py\", line 406, in _iterencode_dict\n",
      "    yield from chunks\n",
      "  File \"C:\\Custom_Program_Files\\programming\\Python\\Python312\\Lib\\json\\encoder.py\", line 439, in _iterencode\n",
      "    o = _default(o)\n",
      "        ^^^^^^^^^^^\n",
      "  File \"C:\\Custom_Program_Files\\programming\\Python\\Python312\\Lib\\json\\encoder.py\", line 180, in default\n",
      "    raise TypeError(f'Object of type {o.__class__.__name__} '\n",
      "TypeError: Object of type int64 is not JSON serializable\n"
     ]
    },
    {
     "name": "stdout",
     "output_type": "stream",
     "text": [
      "signatures_file_path\n",
      "signatures_to_extract\n",
      "False\n",
      "0.06\n",
      "{'counts_distribution': {'cancer_type': 'random', 'distribution': 'logscale'},\n",
      " 'identifier': 's_25_n_0.06',\n",
      " 'n_samples': 10,\n",
      " 'noise_distribution': {'avg_perc': 0.06, 'distribution': 'poisson'},\n",
      " 'sample_signature_distribution': {'distribution': 'uniform',\n",
      "                                   'max': 2,\n",
      "                                   'min': 0.5,\n",
      "                                   'n_sign_active': 2,\n",
      "                                   'sign_active_prob': 0.4,\n",
      "                                   'use_sign_active_prob': False},\n",
      " 'save_dir': 'simulated_data',\n",
      " 'signatures_file_path': 'cosmic_signatures/COSMIC_v3.4_SBS_GRCh37.txt',\n",
      " 'signatures_to_extract': ['SBS10a',\n",
      "                           'SBS56',\n",
      "                           'SBS10d',\n",
      "                           'SBS52',\n",
      "                           'SBS36',\n",
      "                           'SBS91',\n",
      "                           'SBS45',\n",
      "                           'SBS38',\n",
      "                           'SBS10c',\n",
      "                           'SBS14',\n",
      "                           'SBS18',\n",
      "                           'SBS7b',\n",
      "                           'SBS7a',\n",
      "                           'SBS23',\n",
      "                           'SBS19',\n",
      "                           'SBS30',\n",
      "                           'SBS11',\n",
      "                           'SBS95',\n",
      "                           'SBS20',\n",
      "                           'SBS10b',\n",
      "                           'SBS58',\n",
      "                           'SBS2',\n",
      "                           'SBS15',\n",
      "                           'SBS42',\n",
      "                           'SBS4']}\n"
     ]
    },
    {
     "name": "stderr",
     "output_type": "stream",
     "text": [
      "Traceback (most recent call last):\n",
      "  File \"c:\\Files\\github\\Mutational_Signatures\\SimulateData.py\", line 264, in <module>\n",
      "    simulated_data, data_file, config_file = simulate_data(config)\n",
      "                                             ^^^^^^^^^^^^^^^^^^^^^\n",
      "  File \"c:\\Files\\github\\Mutational_Signatures\\SimulateData.py\", line 86, in simulate_data\n",
      "    json.dump(config, f)\n",
      "  File \"C:\\Custom_Program_Files\\programming\\Python\\Python312\\Lib\\json\\__init__.py\", line 179, in dump\n",
      "    for chunk in iterable:\n",
      "  File \"C:\\Custom_Program_Files\\programming\\Python\\Python312\\Lib\\json\\encoder.py\", line 432, in _iterencode\n",
      "    yield from _iterencode_dict(o, _current_indent_level)\n",
      "  File \"C:\\Custom_Program_Files\\programming\\Python\\Python312\\Lib\\json\\encoder.py\", line 406, in _iterencode_dict\n",
      "    yield from chunks\n",
      "  File \"C:\\Custom_Program_Files\\programming\\Python\\Python312\\Lib\\json\\encoder.py\", line 406, in _iterencode_dict\n",
      "    yield from chunks\n",
      "  File \"C:\\Custom_Program_Files\\programming\\Python\\Python312\\Lib\\json\\encoder.py\", line 439, in _iterencode\n",
      "    o = _default(o)\n",
      "        ^^^^^^^^^^^\n",
      "  File \"C:\\Custom_Program_Files\\programming\\Python\\Python312\\Lib\\json\\encoder.py\", line 180, in default\n",
      "    raise TypeError(f'Object of type {o.__class__.__name__} '\n",
      "TypeError: Object of type int64 is not JSON serializable\n"
     ]
    }
   ],
   "source": [
    "for signature_count in [8, 15, 25]:\n",
    "    signature_list = \" \".join(orthogonal[:signature_count].index)\n",
    "    for noise_level in [0.06]:\n",
    "        print(signature_list)\n",
    "        identifier = f\"s_{signature_count}_n_{noise_level}\"\n",
    "        !python SimulateData.py --identifier {identifier} --config \"simulated_data/config_v2.json\" --signatures_to_extract $signature_list --noise_distribution_avg_perc $noise_level\n",
    "        break"
   ]
  },
  {
   "cell_type": "code",
   "execution_count": 21,
   "id": "3f4b50ca",
   "metadata": {},
   "outputs": [],
   "source": [
    "# Quick test\n",
    "# !python SimulateData.py --identifier \"352\" --config \"simulated_data/config_v2.json\" --signatures_to_extract $signature_list --noise_distribution_avg_perc $noise_level"
   ]
  }
 ],
 "metadata": {
  "kernelspec": {
   "display_name": "venv",
   "language": "python",
   "name": "python3"
  },
  "language_info": {
   "codemirror_mode": {
    "name": "ipython",
    "version": 3
   },
   "file_extension": ".py",
   "mimetype": "text/x-python",
   "name": "python",
   "nbconvert_exporter": "python",
   "pygments_lexer": "ipython3",
   "version": "3.12.0"
  }
 },
 "nbformat": 4,
 "nbformat_minor": 5
}
