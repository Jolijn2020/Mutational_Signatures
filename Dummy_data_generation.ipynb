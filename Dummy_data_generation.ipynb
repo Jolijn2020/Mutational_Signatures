{
 "cells": [
  {
   "cell_type": "code",
   "execution_count": 2,
   "id": "initial_id",
   "metadata": {
    "collapsed": true,
    "ExecuteTime": {
     "end_time": "2025-01-06T08:50:07.149958700Z",
     "start_time": "2025-01-06T08:50:05.333851300Z"
    }
   },
   "outputs": [],
   "source": [
    "import SimulateData"
   ]
  },
  {
   "cell_type": "code",
   "execution_count": 1,
   "id": "af5d7034",
   "metadata": {
    "ExecuteTime": {
     "end_time": "2025-01-06T08:40:37.206255500Z",
     "start_time": "2025-01-06T08:40:37.005292Z"
    }
   },
   "outputs": [
    {
     "ename": "NameError",
     "evalue": "name 'SimulateData' is not defined",
     "output_type": "error",
     "traceback": [
      "\u001B[1;31m---------------------------------------------------------------------------\u001B[0m",
      "\u001B[1;31mNameError\u001B[0m                                 Traceback (most recent call last)",
      "Cell \u001B[1;32mIn[1], line 25\u001B[0m\n\u001B[0;32m      1\u001B[0m config \u001B[38;5;241m=\u001B[39m {\n\u001B[0;32m      2\u001B[0m     \u001B[38;5;124m\"\u001B[39m\u001B[38;5;124msignatures_file_path\u001B[39m\u001B[38;5;124m\"\u001B[39m:     \u001B[38;5;124m'\u001B[39m\u001B[38;5;124mcosmic_signatures/COSMIC_v3.4_SBS_GRCh37.txt\u001B[39m\u001B[38;5;124m'\u001B[39m,\n\u001B[0;32m      3\u001B[0m     \u001B[38;5;124m\"\u001B[39m\u001B[38;5;124msignatures_to_extract\u001B[39m\u001B[38;5;124m\"\u001B[39m:    [\u001B[38;5;124m'\u001B[39m\u001B[38;5;124mSBS4\u001B[39m\u001B[38;5;124m'\u001B[39m, \u001B[38;5;124m'\u001B[39m\u001B[38;5;124mSBS6\u001B[39m\u001B[38;5;124m'\u001B[39m, \u001B[38;5;124m'\u001B[39m\u001B[38;5;124mSBS7a\u001B[39m\u001B[38;5;124m'\u001B[39m,\u001B[38;5;124m'\u001B[39m\u001B[38;5;124mSBS9\u001B[39m\u001B[38;5;124m'\u001B[39m,\u001B[38;5;124m'\u001B[39m\u001B[38;5;124mSBS18\u001B[39m\u001B[38;5;124m'\u001B[39m],\n\u001B[1;32m   (...)\u001B[0m\n\u001B[0;32m     22\u001B[0m     }\n\u001B[0;32m     23\u001B[0m }\n\u001B[1;32m---> 25\u001B[0m simulated_data, data_file, config_file \u001B[38;5;241m=\u001B[39m \u001B[43mSimulateData\u001B[49m\u001B[38;5;241m.\u001B[39msimulate_data(config)\n\u001B[0;32m     26\u001B[0m \u001B[38;5;28mprint\u001B[39m(\u001B[38;5;124m'\u001B[39m\u001B[38;5;124m'\u001B[39m)\n\u001B[0;32m     27\u001B[0m \u001B[38;5;28mprint\u001B[39m(simulated_data\u001B[38;5;241m.\u001B[39mhead())\n",
      "\u001B[1;31mNameError\u001B[0m: name 'SimulateData' is not defined"
     ]
    }
   ],
   "source": [
    "config = {\n",
    "    \"signatures_file_path\":     'cosmic_signatures/COSMIC_v3.4_SBS_GRCh37.txt',\n",
    "    \"signatures_to_extract\":    ['SBS4', 'SBS6', 'SBS7a','SBS9','SBS18'],\n",
    "    \"n_samples\":                10,\n",
    "    \"save_dir\":                 'simulated_data',\n",
    "    'sample_signature_distribution': {\n",
    "        'distribution':             'uniform',\n",
    "        'min':                      0.5,\n",
    "        'max':                      2,\n",
    "        'use_sign_active_prob':     True,\n",
    "        'sign_active_prob':         0.4,    # Only used if use_sign_active_prob is True\n",
    "        'n_sign_active':            2       # Only used if use_sign_active_prob is False\n",
    "    },\n",
    "    'noise_distribution': {\n",
    "        'distribution':             'poisson',\n",
    "        'avg_perc':                 0.05,\n",
    "    },\n",
    "    'counts_distribution': {\n",
    "        'distribution':             'logscale',\n",
    "        'min':                      1000,\n",
    "        'max':                      50000,\n",
    "    }\n",
    "}\n",
    "\n",
    "simulated_data, data_file, config_file = SimulateData.simulate_data(config)\n",
    "print('')\n",
    "print(simulated_data.head())"
   ]
  },
  {
   "cell_type": "code",
   "execution_count": 6,
   "outputs": [
    {
     "name": "stdout",
     "output_type": "stream",
     "text": [
      "Sucessfully saved simulated data in simulated_data/experiment_noise_1/data_v1_GRCh37_4_6_7a_9_18.csv\n",
      "Sucessfully saved meta-data in simulated_data/experiment_noise_1/config_v1.json\n",
      "Sucessfully saved simulated data in simulated_data/experiment_noise_1/data_v2_GRCh37_4_6_7a_9_18.csv\n",
      "Sucessfully saved meta-data in simulated_data/experiment_noise_1/config_v2.json\n",
      "Sucessfully saved simulated data in simulated_data/experiment_noise_1/data_v3_GRCh37_4_6_7a_9_18.csv\n",
      "Sucessfully saved meta-data in simulated_data/experiment_noise_1/config_v3.json\n",
      "Sucessfully saved simulated data in simulated_data/experiment_noise_1/data_v4_GRCh37_4_6_7a_9_18.csv\n",
      "Sucessfully saved meta-data in simulated_data/experiment_noise_1/config_v4.json\n",
      "Sucessfully saved simulated data in simulated_data/experiment_noise_1/data_v5_GRCh37_4_6_7a_9_18.csv\n",
      "Sucessfully saved meta-data in simulated_data/experiment_noise_1/config_v5.json\n",
      "Sucessfully saved simulated data in simulated_data/experiment_noise_1/data_v6_GRCh37_4_6_7a_9_18.csv\n",
      "Sucessfully saved meta-data in simulated_data/experiment_noise_1/config_v6.json\n",
      "Sucessfully saved simulated data in simulated_data/experiment_noise_1/data_v7_GRCh37_4_6_7a_9_18.csv\n",
      "Sucessfully saved meta-data in simulated_data/experiment_noise_1/config_v7.json\n",
      "['simulated_data/experiment_noise_1/data_v1_GRCh37_4_6_7a_9_18.csv', 'simulated_data/experiment_noise_1/data_v2_GRCh37_4_6_7a_9_18.csv', 'simulated_data/experiment_noise_1/data_v3_GRCh37_4_6_7a_9_18.csv', 'simulated_data/experiment_noise_1/data_v4_GRCh37_4_6_7a_9_18.csv', 'simulated_data/experiment_noise_1/data_v5_GRCh37_4_6_7a_9_18.csv', 'simulated_data/experiment_noise_1/data_v6_GRCh37_4_6_7a_9_18.csv', 'simulated_data/experiment_noise_1/data_v7_GRCh37_4_6_7a_9_18.csv']\n"
     ]
    }
   ],
   "source": [
    "config = {\n",
    "    \"signatures_file_path\":     'cosmic_signatures/COSMIC_v3.4_SBS_GRCh37.txt',\n",
    "    \"signatures_to_extract\":    ['SBS4', 'SBS6', 'SBS7a','SBS9','SBS18'],\n",
    "    \"n_samples\":                50,\n",
    "    \"save_dir\":                 'simulated_data/experiment_noise_1',\n",
    "    'sample_signature_distribution': {\n",
    "        'distribution':             'uniform',\n",
    "        'min':                      0.5,\n",
    "        'max':                      2,\n",
    "        'use_sign_active_prob':     True,\n",
    "        'sign_active_prob':         0.4,    # Only used if use_sign_active_prob is True\n",
    "        'n_sign_active':            2       # Only used if use_sign_active_prob is False\n",
    "    },\n",
    "    'noise_distribution': {\n",
    "        'distribution':             'poisson',\n",
    "        'avg_perc':                 0.05,\n",
    "    },\n",
    "    'counts_distribution': {\n",
    "        'distribution':             'logscale',\n",
    "        'min':                      1000,\n",
    "        'max':                      50000,\n",
    "    }\n",
    "}\n",
    "\n",
    "# loop over all the variables to change\n",
    "noise_distribution_avg_perc_list = [0.01, 0.05, 0.1, 0.15, 0.2, 0.3, 0.4]\n",
    "files = []\n",
    "for avg_perc in noise_distribution_avg_perc_list:\n",
    "    config['noise_distribution']['avg_perc'] = avg_perc\n",
    "    files.append(SimulateData.simulate_data(config)[1])\n",
    "\n",
    "print(files)"
   ],
   "metadata": {
    "collapsed": false,
    "ExecuteTime": {
     "end_time": "2025-01-06T08:55:10.992070Z",
     "start_time": "2025-01-06T08:55:10.876729700Z"
    }
   },
   "id": "4e12f9d927565c51"
  },
  {
   "cell_type": "code",
   "execution_count": null,
   "outputs": [],
   "source": [],
   "metadata": {
    "collapsed": false
   },
   "id": "810253739f0d95e4"
  }
 ],
 "metadata": {
  "kernelspec": {
   "display_name": "venv",
   "language": "python",
   "name": "python3"
  },
  "language_info": {
   "codemirror_mode": {
    "name": "ipython",
    "version": 3
   },
   "file_extension": ".py",
   "mimetype": "text/x-python",
   "name": "python",
   "nbconvert_exporter": "python",
   "pygments_lexer": "ipython3",
   "version": "3.12.0"
  }
 },
 "nbformat": 4,
 "nbformat_minor": 5
}
