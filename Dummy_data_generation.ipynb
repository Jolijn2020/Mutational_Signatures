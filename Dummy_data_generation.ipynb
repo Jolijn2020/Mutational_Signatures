{
 "cells": [
  {
   "cell_type": "code",
   "execution_count": 56,
   "id": "initial_id",
   "metadata": {
    "ExecuteTime": {
     "end_time": "2024-11-11T09:10:00.470801500Z",
     "start_time": "2024-11-11T09:09:59.504546Z"
    },
    "collapsed": true
   },
   "outputs": [],
   "source": [
    "import pandas as pd\n",
    "import numpy as np\n",
    "import os\n",
    "import random\n",
    "import matplotlib.pyplot as plt"
   ]
  },
  {
   "cell_type": "code",
   "execution_count": 75,
   "id": "7017cdf121de7f2f",
   "metadata": {
    "ExecuteTime": {
     "end_time": "2024-11-11T09:10:02.018729200Z",
     "start_time": "2024-11-11T09:10:01.908338400Z"
    },
    "collapsed": false
   },
   "outputs": [],
   "source": [
    "def get_signatures_from_files(folder_path):\n",
    "    arr = os.listdir(folder_path)\n",
    "    signatures = []\n",
    "    signature_names = []\n",
    "    for file in arr:\n",
    "        signatures.append(pd.read_csv(os.path.join(folder_path, file)))\n",
    "        signature_names.append(file.removesuffix('.csv'))\n",
    "    return signatures, signature_names\n"
   ]
  },
  {
   "cell_type": "code",
   "execution_count": 79,
   "id": "6543e6e22181d41e",
   "metadata": {
    "ExecuteTime": {
     "end_time": "2024-11-11T09:10:02.823060800Z",
     "start_time": "2024-11-11T09:10:02.734169100Z"
    },
    "collapsed": false
   },
   "outputs": [],
   "source": [
    "def get_specific_signature(signatures_list, signature_names, signature='_GRCh37'):\n",
    "    signatures = pd.DataFrame()\n",
    "    for i in range(len(signature_names)):\n",
    "        column = signatures_list[i][signature_names[i] + signature]\n",
    "        signatures = pd.concat([signatures, column], axis = 1)\n",
    "\n",
    "    return signatures"
   ]
  },
  {
   "cell_type": "code",
   "execution_count": 86,
   "id": "ec45da521da1b9d",
   "metadata": {
    "ExecuteTime": {
     "end_time": "2024-11-11T09:11:13.250311300Z",
     "start_time": "2024-11-11T09:11:13.223676500Z"
    },
    "collapsed": false
   },
   "outputs": [],
   "source": [
    "def get_distribution_of_samples(signatures, n_samples):\n",
    "    df_sparse = pd.DataFrame()\n",
    "    for i in range(n_samples):\n",
    "        # TODO: find what distribution of signatures to use (Article uses 5 out of 10 for each sample)\n",
    "        # Right now, use 0.4 percent chance of signatures being present, with the strength of it being between 0.5 and 2\n",
    "\n",
    "        # Get a distribution of the counts\n",
    "        distribution = [random.random()*1.5+0.5 if random.uniform(0, 1) > 0.6 else 0 for x in range(0, df_grch37.shape[1])]\n",
    "        total = sum(distribution)\n",
    "        while(sum(distribution)==0):\n",
    "            distribution = [random.random()*1.5+0.5 if random.uniform(0, 1) > 0.6 else 0 for x in range(0, df_grch37.shape[1])]\n",
    "            total = sum(distribution)\n",
    "\n",
    "        # normalize\n",
    "        total = sum(distribution)\n",
    "        distribution = [x/total for x in distribution]\n",
    "        df_sparse[i] = distribution\n",
    "\n",
    "    df_sparse = df_sparse.set_index(signatures.columns)\n",
    "    return df_sparse"
   ]
  },
  {
   "cell_type": "code",
   "execution_count": 88,
   "id": "cfb978c13e4d943e",
   "metadata": {
    "collapsed": false
   },
   "outputs": [],
   "source": [
    "def calculate_counts(signatures, sample_distributions, average_noise):\n",
    "    simulated_data = signatures.dot(sample_distributions)\n",
    "    for i in range(simulated_data.shape[1]):\n",
    "        distribution = simulated_data[i]\n",
    "        # Get the number of counts between 1001 and 50119 in logscale (50119 for easier numbers in formula)\n",
    "        n_counts = 10 ** (random.uniform(3, 4.7))\n",
    "        counts = [int(x*n_counts) for x in distribution]\n",
    "\n",
    "        # Add Poisson noise\n",
    "        noisy_counts = [x+np.random.poisson(average_noise) for x in counts]\n",
    "        simulated_data[i] = noisy_counts\n",
    "\n",
    "    return simulated_data"
   ]
  },
  {
   "cell_type": "code",
   "execution_count": 91,
   "id": "13a71107bfcb2ad",
   "metadata": {
    "ExecuteTime": {
     "end_time": "2024-11-11T09:10:01.304757600Z",
     "start_time": "2024-11-11T09:10:01.292412Z"
    },
    "collapsed": false
   },
   "outputs": [
    {
     "name": "stdout",
     "output_type": "stream",
     "text": [
      "     0   1    2    3    4   5    6    7    8   9   ...   20    21   22   23  \\\n",
      "0   504  95  118  170  108  25  126  207  232   5  ...  253   671  440  265   \n",
      "1   156  56   99  145   42  24   80  172  184  13  ...  212   278  362   92   \n",
      "2    39  26   47   76   20   9   37   75   95  10  ...  101    49  162   16   \n",
      "3   211  56   86  128   51  20   77  152  165  12  ...  188   325  317  115   \n",
      "4    24  14   25   46   14  29   24   46   50  10  ...   63   111  102   18   \n",
      "..  ...  ..  ...  ...  ...  ..  ...  ...  ...  ..  ...  ...   ...  ...  ...   \n",
      "91   40  33   16   95   23  60   74   79   15  16  ...  123   652  199   27   \n",
      "92   14  45   11  161    7  14  105  116   13   8  ...  203   997  312   14   \n",
      "93   34  11   11   26   17  15   25   31   13  13  ...   36   169   46   14   \n",
      "94   18  16   14   39   14  16   29   38   16   5  ...   58   198   86   18   \n",
      "95   61  42   14  155   24  40  113  117   12  14  ...  200  1038  304   40   \n",
      "\n",
      "    24    25  26   27   28  29  \n",
      "0    8  1764  14  844    9  10  \n",
      "1    7   546  11  670   16  13  \n",
      "2   13    90   5  323   11  11  \n",
      "3    6   740   7  597   17  16  \n",
      "4   16    73  10  151   26  15  \n",
      "..  ..   ...  ..  ...  ...  ..  \n",
      "91  13   127  21   34   75  19  \n",
      "92   8    34  12   24  121   8  \n",
      "93   6    84   7   15   19   9  \n",
      "94  13    60  12   64   23  11  \n",
      "95   5   187  13   31  115  15  \n",
      "\n",
      "[96 rows x 30 columns]\n"
     ]
    }
   ],
   "source": [
    "# Get paths to working directory and files folder\n",
    "dir_path = os.path.dirname(os.path.abspath(os.curdir))\n",
    "dir_path = os.path.join(dir_path, 'Mutational_Signatures')\n",
    "\n",
    "signature_type = '_GRCh37'\n",
    "n_samples = 30\n",
    "average_noise = 10\n",
    "\n",
    "signatures_list, signature_names = get_signatures_from_files(os.path.join(dir_path, 'cosmic_signatures'))\n",
    "# print(signatures_list[1].to_string)\n",
    "signatures = get_specific_signature(signatures_list, signature_names, signature_type)\n",
    "# print(signatures)\n",
    "sample_distributions = get_distribution_of_samples(signatures, n_samples)\n",
    "# print(sample_distributions)\n",
    "simulated_data = calculate_counts(signatures, sample_distributions, average_noise)\n",
    "print(simulated_data)"
   ]
  },
  {
   "cell_type": "markdown",
   "id": "710a519212bc800a",
   "metadata": {
    "collapsed": false
   },
   "source": [
    "only simulate 30 samples (since real-life databases are also small (not in our case though??))\n",
    "\n",
    "1. Choose 5 random signatures per sample to get a representation in combined probability (not really anymore since not sum to 100%\n",
    "2. randomly select between 1000 to 50000 mutations in log scale per sample\n",
    "3. Calculate the counts of the samples\n",
    "4. Add Poisson noise"
   ]
  }
 ],
 "metadata": {
  "kernelspec": {
   "display_name": "venv",
   "language": "python",
   "name": "python3"
  },
  "language_info": {
   "codemirror_mode": {
    "name": "ipython",
    "version": 3
   },
   "file_extension": ".py",
   "mimetype": "text/x-python",
   "name": "python",
   "nbconvert_exporter": "python",
   "pygments_lexer": "ipython3",
   "version": "3.12.0"
  }
 },
 "nbformat": 4,
 "nbformat_minor": 5
}
