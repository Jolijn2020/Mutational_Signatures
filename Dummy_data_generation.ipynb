{
 "cells": [
  {
   "cell_type": "code",
   "execution_count": null,
   "id": "initial_id",
   "metadata": {
    "collapsed": true
   },
   "outputs": [],
   "source": [
    "import pandas as pd\n",
    "import os\n",
    "import random"
   ]
  },
  {
   "cell_type": "code",
   "execution_count": null,
   "outputs": [],
   "source": [
    "# Get paths to working directory and files folder\n",
    "dir_path = os.path.dirname(os.path.abspath(os.curdir))\n",
    "dir_path = os.path.join(dir_path, 'Mutational_Signatures')\n",
    "print(dir_path)"
   ],
   "metadata": {
    "collapsed": false
   },
   "id": "13a71107bfcb2ad"
  },
  {
   "cell_type": "code",
   "execution_count": null,
   "outputs": [],
   "source": [
    "# Read in the tables\n",
    "cosmic_signatures_path = os.path.join(dir_path, 'cosmic_signatures')\n",
    "arr = os.listdir(cosmic_signatures_path)\n",
    "data_frames = []\n",
    "data_frames_names = []\n",
    "for file in arr:\n",
    "    data_frames.append(pd.read_csv(os.path.join(cosmic_signatures_path, file)))\n",
    "    data_frames_names.append(file.removesuffix('.csv'))\n",
    "# df_4 = pd.read_csv(os.path.join(cosmic_signatures_path, 'SBS4.csv'))\n",
    "# df_6 = pd.read_csv(os.path.join(cosmic_signatures_path, 'SBS6.csv'))\n",
    "# df_7a = pd.read_csv(os.path.join(cosmic_signatures_path, 'SBS7a.csv'))\n",
    "# df_9 = pd.read_csv(os.path.join(cosmic_signatures_path, 'SBS9.csv'))\n",
    "# df_18 = pd.read_csv(os.path.join(cosmic_signatures_path, 'SBS18.csv'))\n",
    "\n",
    "print(data_frames[1].to_string)\n",
    "print(data_frames_names)"
   ],
   "metadata": {
    "collapsed": false
   },
   "id": "7017cdf121de7f2f"
  },
  {
   "cell_type": "code",
   "execution_count": null,
   "outputs": [],
   "source": [
    "df_grch37 = pd.DataFrame()\n",
    "for i in range(len(data_frames_names)):\n",
    "    column = data_frames[i][data_frames_names[i] + '_GRCh37']\n",
    "    df_grch37 = pd.concat([df_grch37, column], axis = 1)\n",
    "df_grch37"
   ],
   "metadata": {
    "collapsed": false
   },
   "id": "6543e6e22181d41e"
  },
  {
   "cell_type": "code",
   "execution_count": null,
   "outputs": [],
   "source": [
    "n_samples = 50\n",
    "df_sparse = pd.DataFrame()\n",
    "for i in range(n_samples):\n",
    "    df_sparse[i] = [random.random()*1.5+0.5 if random.uniform(0, 1) > 0.6 else 0 for x in range(0, df_grch37.shape[1])]\n",
    "df_sparse = df_sparse.set_index(df_grch37.columns)\n",
    "df_sparse"
   ],
   "metadata": {
    "collapsed": false
   },
   "id": "ec45da521da1b9d"
  },
  {
   "cell_type": "code",
   "execution_count": null,
   "outputs": [],
   "source": [
    "simulated_data = df_grch37.dot(df_sparse)\n",
    "simulated_data"
   ],
   "metadata": {
    "collapsed": false
   },
   "id": "cfb978c13e4d943e"
  }
 ],
 "metadata": {
  "kernelspec": {
   "display_name": "Python 3",
   "language": "python",
   "name": "python3"
  },
  "language_info": {
   "codemirror_mode": {
    "name": "ipython",
    "version": 2
   },
   "file_extension": ".py",
   "mimetype": "text/x-python",
   "name": "python",
   "nbconvert_exporter": "python",
   "pygments_lexer": "ipython2",
   "version": "2.7.6"
  }
 },
 "nbformat": 4,
 "nbformat_minor": 5
}
