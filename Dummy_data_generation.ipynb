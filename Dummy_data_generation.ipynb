{
 "cells": [
  {
   "cell_type": "code",
   "execution_count": 2,
   "id": "3af4c530",
   "metadata": {},
   "outputs": [],
   "source": [
    "%load_ext autoreload\n",
    "%autoreload 2"
   ]
  },
  {
   "cell_type": "code",
   "execution_count": 3,
   "id": "initial_id",
   "metadata": {
    "ExecuteTime": {
     "end_time": "2024-11-11T09:10:00.470801500Z",
     "start_time": "2024-11-11T09:09:59.504546Z"
    }
   },
   "outputs": [],
   "source": [
    "import SimulateData"
   ]
  },
  {
   "cell_type": "code",
   "execution_count": 4,
   "id": "af5d7034",
   "metadata": {},
   "outputs": [],
   "source": [
    "config = {\n",
    "    \"signatures_file_path\":     'cosmic_signatures/COSMIC_v3.4_SBS_GRCh37.txt',\n",
    "    \"signatures_to_extract\":    ['SBS4', 'SBS6', 'SBS7a','SBS9','SBS18'],\n",
    "    \"n_samples\":                100,\n",
    "    \"save_dir\":                 'simulated_data_01_14',\n",
    "    'sample_signature_distribution': {\n",
    "        'distribution':             'uniform',\n",
    "        'min':                      0.5,\n",
    "        'max':                      2,\n",
    "        'use_sign_active_prob':     True,\n",
    "        'sign_active_prob':         0.4,    # Only used if use_sign_active_prob is True\n",
    "        'n_sign_active':            2       # Only used if use_sign_active_prob is False\n",
    "    },\n",
    "    'noise_distribution': {\n",
    "        'distribution':             'poisson',\n",
    "        'avg_perc':                 0.05,\n",
    "    },\n",
    "    'counts_distribution': {\n",
    "        'cancer_type':              'random', # Specify the cancer_type, or let each sample be a random one from the file 'mutation_counts/TCGA/WES_TCGA.96_min_max.csv'\n",
    "        # 'cancer_type':              'NA',   # If want to not use the cancertype to get the min and max, but fill them in by hand\n",
    "        'distribution':             'logscale',\n",
    "        # 'min':                      1000,   # Only used if cancer_type = NA\n",
    "        # 'max':                      50000,  # Only used if cancer_type = NA\n",
    "    }\n",
    "}"
   ]
  },
  {
   "cell_type": "code",
   "execution_count": null,
   "id": "9c393652",
   "metadata": {},
   "outputs": [],
   "source": [
    "!ls simulated_data"
   ]
  },
  {
   "cell_type": "code",
   "execution_count": 6,
   "id": "bc5bbeb3",
   "metadata": {},
   "outputs": [],
   "source": [
    "import pandas as pd\n",
    "import random\n",
    "import re\n",
    "signatures = pd.read_csv('cosmic_signatures/COSMIC_v3.4_SBS_GRCh37.txt', sep='\\t')\n",
    "signatures.set_index('Type', inplace=True)\n",
    "signatures = signatures[[x for x in signatures.columns if not re.search(r'SBS5$|SBS40.?$',x)]]\n",
    "\n",
    "import numpy as np\n",
    "\n",
    "\n",
    "orthogonal = dict()\n",
    "for col_name, col_data in signatures.items():\n",
    "    other = signatures.drop(columns=col_name)\n",
    "    other_products = other.apply(lambda x: np.dot(col_data, x))\n",
    "    orthogonal[col_name] = other_products.mean()\n",
    "\n",
    "orthogonal = pd.Series(orthogonal).sort_values(ascending=False)"
   ]
  },
  {
   "cell_type": "code",
   "execution_count": 7,
   "id": "34c81ad7",
   "metadata": {},
   "outputs": [],
   "source": [
    "# for signature_count in [8, 15, 25]:\n",
    "#     signature_list = \" \".join(orthogonal[:signature_count].index)\n",
    "#     for noise_level in [0.02, 0.04, 0.06]:\n",
    "#         for mutation_count in [(500, 2000), (2000, 5000), (5000, 8000)]:\n",
    "#             print(signature_list)\n",
    "#             identifier = f\"s_{signature_count}_n_{noise_level}\"\n",
    "#             !python SimulateData.py --identifier {identifier} --config \"simulated_data/config_v1.json\" --signatures_to_extract $signature_list --noise_distribution_avg_perc $noise_level --counts_distribution_min $mutation_count[0] --counts_distribution_max $mutation_count[1]\n",
    "#             break"
   ]
  },
  {
   "cell_type": "code",
   "execution_count": null,
   "id": "eaa8fe3d",
   "metadata": {},
   "outputs": [],
   "source": [
    "for signature_count in [8, 15, 25]:\n",
    "    signature_list = \" \".join(orthogonal[:signature_count].index)\n",
    "    for noise_level in [0.02, 0.04, 0.06]:\n",
    "        print(signature_list)\n",
    "        identifier = f\"s_{signature_count}_n_{noise_level}\"\n",
    "        !python SimulateData.py --identifier {identifier} --config \"simulated_data/config_v2.json\" --signatures_to_extract $signature_list --noise_distribution_avg_perc $noise_level\n",
    "        break"
   ]
  },
  {
   "cell_type": "code",
   "execution_count": 9,
   "id": "3f4b50ca",
   "metadata": {},
   "outputs": [],
   "source": [
    "# Quick test\n",
    "# !python SimulateData.py --identifier \"352\" --config \"simulated_data/config_v2.json\" --signatures_to_extract $signature_list --noise_distribution_avg_perc $noise_level"
   ]
  },
  {
   "cell_type": "code",
   "execution_count": null,
   "id": "32dbd928",
   "metadata": {},
   "outputs": [],
   "source": [
    "config = {\n",
    "  \"signatures_file_path\":     \"cosmic_signatures/COSMIC_v3.4_SBS_GRCh37.txt\",\n",
    "  \"signatures_to_extract\":    [\"SBS4\", \"SBS6\", \"SBS7a\",\"SBS9\",\"SBS18\"],\n",
    "  \"n_samples\":                100,\n",
    "  \"save_dir\":                 \"simulated_data\",\n",
    "  \"sample_signature_distribution\": {\n",
    "      \"distribution\":             \"uniform\",\n",
    "      \"min\":                      0.5,\n",
    "      \"max\":                      2,\n",
    "      \"use_sign_active_prob\":     True,\n",
    "      \"sign_active_prob\":         0.4, \n",
    "      \"n_sign_active\":            2\n",
    "  },\n",
    "  \"noise_distribution\": {\n",
    "      \"distribution\":             \"poisson\",\n",
    "      \"avg_perc\":                 0.05\n",
    "  },\n",
    "  \"counts_distribution\": {\n",
    "      \"cancer_type\":              \"NA\",\n",
    "      \"distribution\":             \"logscale\"\n",
    "  }\n",
    "}\n",
    "\n",
    "config['counts_distribution']['distribution'] = \"logscale\"\n",
    "config['counts_distribution']['cancer_type'] = 'Thy-AdenoCa Biliary-AdenoCa Skin-Melanoma'\n",
    "for signature_count in [8, 15, 25]:\n",
    "    signature_list = list(orthogonal[:signature_count].index)\n",
    "    config['signatures_to_extract'] = signature_list\n",
    "    for noise_level in [0.02, 0.04, 0.06]:\n",
    "        config['noise_distribution']['avg_perc'] = noise_level\n",
    "        identifier = f\"s_{signature_count}_n_{noise_level}_\"\n",
    "        config.update({'identifier': identifier})\n",
    "        SimulateData.simulate_data(config, print_text=False)\n",
    "\n",
    "\n",
    "# config['counts_distribution']['distribution'] = \"logscale\"\n",
    "# for signature_count in [8, 15, 25]:\n",
    "#     signature_list = list(orthogonal[:signature_count].index)\n",
    "#     config['signatures_to_extract'] = signature_list\n",
    "#     for noise_level in [0.02, 0.04, 0.06]:\n",
    "#         config['noise_distribution']['avg_perc'] = noise_level\n",
    "#         for cancer_type in ['Thy-AdenoCa', 'Biliary-AdenoCa', 'Skin-Melanoma']:\n",
    "#             config['counts_distribution']['cancer_type'] = cancer_type\n",
    "#             identifier = f\"s_{signature_count}_n_{noise_level}_c_{cancer_type}\"\n",
    "#             config.update({'identifier': identifier})\n",
    "#             SimulateData.simulate_data(config, print_text=False)\n",
    "\n",
    "# config['counts_distribution']['cancer_type'] = \"NA\"\n",
    "# config['counts_distribution']['distribution'] = \"logscale\"\n",
    "# for signature_count in [8, 15, 25]:\n",
    "#     signature_list = list(orthogonal[:signature_count].index)\n",
    "#     config['signatures_to_extract'] = signature_list\n",
    "#     for noise_level in [0.02, 0.04, 0.06]:\n",
    "#         config['noise_distribution']['avg_perc'] = noise_level\n",
    "#         for count_range in [(0, 3000), (3000, 6000), (6000, 9000)]:\n",
    "#             config['counts_distribution']['min'] = count_range[0]\n",
    "#             config['counts_distribution']['max'] = count_range[1]\n",
    "#             identifier = f\"s_{signature_count}_n_{noise_level}_c_{count_range[0]}_{count_range[1]}\"\n",
    "#             config.update({'identifier': identifier})\n",
    "#             SimulateData.simulate_data(config, print_text=False)\n",
    "\n",
    "# config['counts_distribution']['cancer_type'] = \"random\"\n",
    "# config['counts_distribution']['distribution'] = \"logscale\"\n",
    "# for signature_count in [8, 15, 25]:\n",
    "#     signature_list = orthogonal[:signature_count].index\n",
    "#     signature_list2 = list(orthogonal[:signature_count].index)\n",
    "#     signature_list3 = orthogonal[:signature_count]\n",
    "#     config['signatures_to_extract'] = signature_list2\n",
    "#     for noise_level in [0.02, 0.04, 0.06]:\n",
    "#         config['noise_distribution']['avg_perc'] = noise_level\n",
    "#         identifier = f\"s_{signature_count}_n_{noise_level}\"\n",
    "#         config.update({'identifier': identifier})\n",
    "#         SimulateData.simulate_data(config, print_text=False)"
   ]
  }
 ],
 "metadata": {
  "kernelspec": {
   "display_name": "venv",
   "language": "python",
   "name": "python3"
  },
  "language_info": {
   "codemirror_mode": {
    "name": "ipython",
    "version": 3
   },
   "file_extension": ".py",
   "mimetype": "text/x-python",
   "name": "python",
   "nbconvert_exporter": "python",
   "pygments_lexer": "ipython3",
   "version": "3.12.0"
  }
 },
 "nbformat": 4,
 "nbformat_minor": 5
}
