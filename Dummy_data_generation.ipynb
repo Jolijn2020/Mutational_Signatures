{
 "cells": [
  {
   "cell_type": "code",
   "execution_count": null,
   "id": "initial_id",
   "metadata": {
    "collapsed": true
   },
   "outputs": [],
   "source": [
    "import pandas as pd\n",
    "import os\n",
    "import random"
   ]
  },
  {
   "cell_type": "code",
   "execution_count": null,
   "outputs": [],
   "source": [
    "# Get paths to working directory and files folder\n",
    "dir_path = os.path.dirname(os.path.abspath(os.curdir))\n",
    "dir_path = os.path.join(dir_path, 'Mutational_Signatures')\n",
    "print(dir_path)"
   ],
   "metadata": {
    "collapsed": false
   },
   "id": "13a71107bfcb2ad"
  },
  {
   "cell_type": "code",
   "execution_count": null,
   "outputs": [],
   "source": [
    "# Read in the tables\n",
    "cosmic_signatures_path = os.path.join(dir_path, 'cosmic_signatures')\n",
    "\n",
    "df_4 = pd.read_csv(os.path.join(cosmic_signatures_path, 'SBS4.csv'))\n",
    "df_6 = pd.read_csv(os.path.join(cosmic_signatures_path, 'SBS6.csv'))\n",
    "df_7a = pd.read_csv(os.path.join(cosmic_signatures_path, 'SBS7a.csv'))\n",
    "df_9 = pd.read_csv(os.path.join(cosmic_signatures_path, 'SBS9.csv'))\n",
    "df_18 = pd.read_csv(os.path.join(cosmic_signatures_path, 'SBS18.csv'))\n",
    "\n",
    "print(df_7a.to_string)"
   ],
   "metadata": {
    "collapsed": false
   },
   "id": "7017cdf121de7f2f"
  },
  {
   "cell_type": "code",
   "execution_count": null,
   "outputs": [],
   "source": [
    "df_grch37 = pd.DataFrame().assign(SBS4=df_4['SBS4_GRCh37'], SBS6=df_6['SBS6_GRCh37'], SBS7a=df_7a['SBS7a_GRCh37'], SBS9=df_9['SBS9_GRCh37'], SBS18=df_18['SBS18_GRCh37'])\n",
    "df_grch37"
   ],
   "metadata": {
    "collapsed": false
   },
   "id": "6543e6e22181d41e"
  },
  {
   "cell_type": "code",
   "execution_count": null,
   "outputs": [],
   "source": [
    "df_sparse = pd.DataFrame()\n",
    "for i in range(50):\n",
    "    df_sparse[i] = [random.random()*1.5+0.5 if random.uniform(0, 1) > 0.6 else 0 for x in range(0, df_grch37.shape[1])]\n",
    "df_sparse = df_sparse.set_index(df_grch37.columns)\n",
    "df_sparse"
   ],
   "metadata": {
    "collapsed": false
   },
   "id": "ec45da521da1b9d"
  },
  {
   "cell_type": "code",
   "execution_count": null,
   "outputs": [],
   "source": [
    "simulated_data = df_grch37.dot(df_sparse)\n",
    "simulated_data"
   ],
   "metadata": {
    "collapsed": false
   },
   "id": "cfb978c13e4d943e"
  }
 ],
 "metadata": {
  "kernelspec": {
   "display_name": "Python 3",
   "language": "python",
   "name": "python3"
  },
  "language_info": {
   "codemirror_mode": {
    "name": "ipython",
    "version": 2
   },
   "file_extension": ".py",
   "mimetype": "text/x-python",
   "name": "python",
   "nbconvert_exporter": "python",
   "pygments_lexer": "ipython2",
   "version": "2.7.6"
  }
 },
 "nbformat": 4,
 "nbformat_minor": 5
}
