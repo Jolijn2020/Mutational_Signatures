{
 "cells": [
  {
   "cell_type": "code",
   "execution_count": null,
   "id": "initial_id",
   "metadata": {
    "ExecuteTime": {
     "end_time": "2024-11-11T09:10:00.470801500Z",
     "start_time": "2024-11-11T09:09:59.504546Z"
    },
    "collapsed": true
   },
   "outputs": [],
   "source": [
    "import pandas as pd\n",
    "import numpy as np\n",
    "import os\n",
    "import random\n",
    "import matplotlib.pyplot as plt\n",
    "\n",
    "import SimulateData"
   ]
  },
  {
   "cell_type": "code",
   "execution_count": null,
   "id": "aeb03e13",
   "metadata": {},
   "outputs": [],
   "source": [
    "cosmic_file_path = os.path.join(os.getcwd(), 'cosmic_signatures', 'COSMIC_v3.4_SBS_GRCh37.txt')\n",
    "signatures_to_extract = ['SBS4', 'SBS6', 'SBS7a','SBS9','SBS18']\n",
    "n_samples = 30\n",
    "average_noise = 10\n",
    "save_path = 'simulated_data/test2.csv'\n",
    "\n",
    "simulated_data = SimulateData.simulate_data(cosmic_file_path, signatures_to_extract, n_samples, average_noise, save_path=save_path)\n",
    "print(simulated_data.head())"
   ]
  }
 ],
 "metadata": {
  "kernelspec": {
   "display_name": "venv",
   "language": "python",
   "name": "python3"
  },
  "language_info": {
   "codemirror_mode": {
    "name": "ipython",
    "version": 3
   },
   "file_extension": ".py",
   "mimetype": "text/x-python",
   "name": "python",
   "nbconvert_exporter": "python",
   "pygments_lexer": "ipython3",
   "version": "3.12.0"
  }
 },
 "nbformat": 4,
 "nbformat_minor": 5
}
