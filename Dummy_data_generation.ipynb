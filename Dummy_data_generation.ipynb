{
 "cells": [
  {
   "cell_type": "code",
   "execution_count": 2,
   "id": "initial_id",
   "metadata": {
    "ExecuteTime": {
     "end_time": "2024-11-11T09:10:00.470801500Z",
     "start_time": "2024-11-11T09:09:59.504546Z"
    },
    "collapsed": true
   },
   "outputs": [],
   "source": [
    "import pandas as pd\n",
    "import numpy as np\n",
    "import os\n",
    "import random\n",
    "import matplotlib.pyplot as plt"
   ]
  },
  {
   "cell_type": "code",
   "execution_count": 3,
   "id": "7017cdf121de7f2f",
   "metadata": {
    "ExecuteTime": {
     "end_time": "2024-11-11T09:10:02.018729200Z",
     "start_time": "2024-11-11T09:10:01.908338400Z"
    },
    "collapsed": false
   },
   "outputs": [],
   "source": [
    "def get_signatures_from_files(folder_path):\n",
    "    arr = os.listdir(folder_path)\n",
    "    signatures = []\n",
    "    signature_names = []\n",
    "    for file in arr:\n",
    "        signatures.append(pd.read_csv(os.path.join(folder_path, file)))\n",
    "        signature_names.append(file.removesuffix('.csv'))\n",
    "    return signatures, signature_names\n"
   ]
  },
  {
   "cell_type": "code",
   "execution_count": 4,
   "id": "6543e6e22181d41e",
   "metadata": {
    "ExecuteTime": {
     "end_time": "2024-11-11T09:10:02.823060800Z",
     "start_time": "2024-11-11T09:10:02.734169100Z"
    },
    "collapsed": false
   },
   "outputs": [],
   "source": [
    "def get_specific_signature(signatures_list, signature_names, signature='_GRCh37'):\n",
    "    signatures = pd.DataFrame()\n",
    "    for i in range(len(signature_names)):\n",
    "        column = signatures_list[i][signature_names[i] + signature]\n",
    "        signatures = pd.concat([signatures, column], axis = 1)\n",
    "\n",
    "    return signatures"
   ]
  },
  {
   "cell_type": "code",
   "execution_count": 8,
   "id": "ec45da521da1b9d",
   "metadata": {
    "ExecuteTime": {
     "end_time": "2024-11-11T09:11:13.250311300Z",
     "start_time": "2024-11-11T09:11:13.223676500Z"
    },
    "collapsed": false
   },
   "outputs": [],
   "source": [
    "def get_distribution_of_samples(signatures, n_samples):\n",
    "    df_sparse = pd.DataFrame()\n",
    "    for i in range(n_samples):\n",
    "        # TODO: find what distribution of signatures to use (Article uses 5 out of 10 for each sample)\n",
    "        # Right now, use 0.4 percent chance of signatures being present, with the strength of it being between 0.5 and 2\n",
    "\n",
    "        # Get a distribution of the counts\n",
    "        distribution = [random.random()*1.5+0.5 if random.uniform(0, 1) > 0.6 else 0 for x in range(0, signatures.shape[1])]\n",
    "        total = sum(distribution)\n",
    "        while(sum(distribution)==0):\n",
    "            distribution = [random.random()*1.5+0.5 if random.uniform(0, 1) > 0.6 else 0 for x in range(0, signatures.shape[1])]\n",
    "            total = sum(distribution)\n",
    "\n",
    "        # normalize\n",
    "        total = sum(distribution)\n",
    "        distribution = [x/total for x in distribution]\n",
    "        df_sparse[i] = distribution\n",
    "\n",
    "    df_sparse = df_sparse.set_index(signatures.columns)\n",
    "    return df_sparse"
   ]
  },
  {
   "cell_type": "code",
   "execution_count": 9,
   "id": "cfb978c13e4d943e",
   "metadata": {
    "collapsed": false
   },
   "outputs": [],
   "source": [
    "def calculate_counts(signatures, sample_distributions, average_noise):\n",
    "    simulated_data = signatures.dot(sample_distributions)\n",
    "    for i in range(simulated_data.shape[1]):\n",
    "        distribution = simulated_data[i]\n",
    "        # Get the number of counts between 1001 and 50119 in logscale (50119 for easier numbers in formula)\n",
    "        n_counts = 10 ** (random.uniform(3, 4.7))\n",
    "        counts = [int(x*n_counts) for x in distribution]\n",
    "\n",
    "        # Add Poisson noise\n",
    "        noisy_counts = [x+np.random.poisson(average_noise) for x in counts]\n",
    "        simulated_data[i] = noisy_counts\n",
    "\n",
    "    return simulated_data"
   ]
  },
  {
   "cell_type": "code",
   "execution_count": 13,
   "id": "13a71107bfcb2ad",
   "metadata": {
    "ExecuteTime": {
     "end_time": "2024-11-11T09:10:01.304757600Z",
     "start_time": "2024-11-11T09:10:01.292412Z"
    },
    "collapsed": false
   },
   "outputs": [
    {
     "name": "stdout",
     "output_type": "stream",
     "text": [
      "    0    1     2   3    4    5   6    7    8   9   ...   20  21    22  23  24  \\\n",
      "0   69  138  1738  88  404  125  89  791  514  66  ...   10  16  1994  53   9   \n",
      "1   34   52   539  54  128   72  71  300  209  32  ...   36  15   804  22   8   \n",
      "2   21   15    90  22   27   29  37   48   35  15  ...   10  11   233   8   3   \n",
      "3   40   70   725  52  176   73  62  372  245  36  ...   28  10   943  25   6   \n",
      "4   20   18    68  31   27   37  25   99   76  16  ...   38  16   130  11   8   \n",
      "..  ..  ...   ...  ..  ...  ...  ..  ...  ...  ..  ...  ...  ..   ...  ..  ..   \n",
      "91  11   79   127  50   40   76  11  515  424  53  ...  228  37   117  11  12   \n",
      "92  14   97    34  71   19  114   7  765  627  80  ...  378  13    35  15   5   \n",
      "93   9   25    80  19   26   31  12  148  114  21  ...   57  15    82   8   7   \n",
      "94  10   28    65  24   19   29  14  159  123  17  ...   75  12    77  10  11   \n",
      "95  13  108   181  76   51  111   7  825  662  84  ...  362  22   180  15  12   \n",
      "\n",
      "     25    26   27   28   29  \n",
      "0   299  1147   79   11  278  \n",
      "1   118   731   38   20  222  \n",
      "2    22   291   13   14  105  \n",
      "3   135   708   40   13  196  \n",
      "4    34   200   22   15   52  \n",
      "..  ...   ...  ...  ...  ...  \n",
      "91  170   523   68   75   15  \n",
      "92  256   829  115  113    9  \n",
      "93   52   135   23   24    6  \n",
      "94   57   189   31   20   24  \n",
      "95  271   849  115  108   13  \n",
      "\n",
      "[96 rows x 30 columns]\n"
     ]
    }
   ],
   "source": [
    "# Get paths to working directory and files folder\n",
    "dir_path = os.path.dirname(os.path.abspath(os.curdir))\n",
    "dir_path = os.path.join(dir_path, 'Mutational_Signatures')\n",
    "\n",
    "signature_type = '_GRCh37'\n",
    "n_samples = 30\n",
    "average_noise = 10\n",
    "\n",
    "signatures_list, signature_names = get_signatures_from_files(os.path.join(dir_path, 'cosmic_signatures'))\n",
    "# print(signatures_list[1].to_string)\n",
    "signatures = get_specific_signature(signatures_list, signature_names, signature_type)\n",
    "# print(signatures)\n",
    "sample_distributions = get_distribution_of_samples(signatures, n_samples)\n",
    "# print(sample_distributions)\n",
    "simulated_data = calculate_counts(signatures, sample_distributions, average_noise)\n",
    "print(simulated_data)\n",
    "\n",
    "# TODO: make the row names match the mutation types\n",
    "\n",
    "simulated_data.to_csv('simulated_data/test1', index=True)  "
   ]
  },
  {
   "cell_type": "markdown",
   "id": "710a519212bc800a",
   "metadata": {
    "collapsed": false
   },
   "source": [
    "only simulate 30 samples (since real-life databases are also small (not in our case though??))\n",
    "\n",
    "1. Choose 5 random signatures per sample to get a representation in combined probability (not really anymore since not sum to 100%\n",
    "2. randomly select between 1000 to 50000 mutations in log scale per sample\n",
    "3. Calculate the counts of the samples\n",
    "4. Add Poisson noise"
   ]
  }
 ],
 "metadata": {
  "kernelspec": {
   "display_name": "venv",
   "language": "python",
   "name": "python3"
  },
  "language_info": {
   "codemirror_mode": {
    "name": "ipython",
    "version": 3
   },
   "file_extension": ".py",
   "mimetype": "text/x-python",
   "name": "python",
   "nbconvert_exporter": "python",
   "pygments_lexer": "ipython3",
   "version": "3.12.0"
  }
 },
 "nbformat": 4,
 "nbformat_minor": 5
}
