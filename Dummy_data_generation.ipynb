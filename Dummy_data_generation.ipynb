{
 "cells": [
  {
   "cell_type": "code",
   "execution_count": 1,
   "id": "initial_id",
   "metadata": {
    "ExecuteTime": {
     "end_time": "2024-11-11T09:10:00.470801500Z",
     "start_time": "2024-11-11T09:09:59.504546Z"
    }
   },
   "outputs": [],
   "source": [
    "import SimulateData"
   ]
  },
  {
   "cell_type": "code",
   "execution_count": 2,
   "id": "af5d7034",
   "metadata": {},
   "outputs": [
    {
     "name": "stdout",
     "output_type": "stream",
     "text": [
      "Sucessfully saved simulated data in simulated_data/data_v2_GRCh37_4_6_7a_9_18.csv\n",
      "Sucessfully saved meta-data in simulated_data/config_v2.json\n",
      "\n",
      "           0    1    2     3    4   5     6     7    8    9\n",
      "Type                                                       \n",
      "A[C>A]A  161  213  114  3122  167  67  3057  2027  899  124\n",
      "A[C>A]C  181  152   96  2338  162  58  2400  1888  719   90\n",
      "A[C>A]G  139  147   88  2028  143  47  2150  1505  579   92\n",
      "A[C>A]T  173  171  106  2476  158  58  2496  1839  727  103\n",
      "A[C>G]A  140  157   99  2031  163  59  2109  1508  627   90\n"
     ]
    }
   ],
   "source": [
    "config = {\n",
    "    \"signatures_file_path\":     'cosmic_signatures/COSMIC_v3.4_SBS_GRCh37.txt',\n",
    "    \"signatures_to_extract\":    ['SBS4', 'SBS6', 'SBS7a','SBS9','SBS18'],\n",
    "    \"n_samples\":                10,\n",
    "    \"save_dir\":                 'simulated_data',\n",
    "    'sample_signature_distribution': {\n",
    "        'distribution':             'uniform',\n",
    "        'min':                      0.5,\n",
    "        'max':                      2,\n",
    "        'use_sign_active_prob':     True,\n",
    "        'sign_active_prob':         0.4,    # Only used if use_sign_active_prob is True\n",
    "        'n_sign_active':            2       # Only used if use_sign_active_prob is False\n",
    "    },\n",
    "    'noise_distribution': {\n",
    "        'distribution':             'poisson',\n",
    "        'avg_perc':                 0.05,\n",
    "    },\n",
    "    'counts_distribution': {\n",
    "        'distribution':             'logscale',\n",
    "        'min':                      1000,\n",
    "        'max':                      50000,\n",
    "    }\n",
    "}\n",
    "\n",
    "simulated_data, data_file, config_file = SimulateData.simulate_data(config)"
   ]
  },
  {
   "cell_type": "code",
   "execution_count": 4,
   "id": "9c393652",
   "metadata": {},
   "outputs": [
    {
     "name": "stdout",
     "output_type": "stream",
     "text": [
      "config_v1.json\tdata_v1_GRCh37_4_6_7a_9_18.csv\r\n",
      "config_v2.json\tdata_v2_GRCh37_4_6_7a_9_18.csv\r\n"
     ]
    }
   ],
   "source": [
    "config = {\n",
    "    \"signatures_file_path\":     'cosmic_signatures/COSMIC_v3.4_SBS_GRCh37.txt',\n",
    "    \"signatures_to_extract\":    ['SBS4', 'SBS6', 'SBS7a','SBS9','SBS18'], # TODO: adjust to be new signatures\n",
    "    \"n_samples\":                100,\n",
    "    \"save_dir\":                 'simulated_data/experiment_noise_1',\n",
    "    'sample_signature_distribution': {\n",
    "        'distribution':             'uniform',\n",
    "        'min':                      0.5,\n",
    "        'max':                      2,\n",
    "        'use_sign_active_prob':     True,\n",
    "        'sign_active_prob':         0.4,    # Only used if use_sign_active_prob is True\n",
    "        'n_sign_active':            2       # Only used if use_sign_active_prob is False\n",
    "    },\n",
    "    'noise_distribution': {\n",
    "        'distribution':             'poisson',\n",
    "        'avg_perc':                 0.05,\n",
    "    },\n",
    "    'counts_distribution': {\n",
    "        'distribution':             'logscale',\n",
    "        'min':                      1000,\n",
    "        'max':                      50000,\n",
    "    }\n",
    "}\n",
    "\n",
    "# loop over all the variables to change\n",
    "noise_avg_list = [0.02, 0.04, 0.08]\n",
    "mutation_count_list = [(500, 2000), (2000, 5000), (5000, 8000)]\n",
    "files = []\n",
    "for avg_perc in noise_avg_list:\n",
    "    config['counts_distribution']['avg_perc'] = avg_perc\n",
    "    for mutation_count in mutation_count_list:\n",
    "        config['noise_distribution']['min'] = mutation_count[0]\n",
    "        config['noise_distribution']['max'] = mutation_count[1]\n",
    "        files.append(SimulateData.simulate_data(config, print=False)[1])\n",
    "\n",
    "print(files)"
   ]
  }
 ],
 "metadata": {
  "kernelspec": {
   "display_name": "Python 3 (ipykernel)",
   "language": "python",
   "name": "python3"
  },
  "language_info": {
   "codemirror_mode": {
    "name": "ipython",
    "version": 3
   },
   "file_extension": ".py",
   "mimetype": "text/x-python",
   "name": "python",
   "nbconvert_exporter": "python",
   "pygments_lexer": "ipython3",
   "version": "3.10.12"
  }
 },
 "nbformat": 4,
 "nbformat_minor": 5
}
