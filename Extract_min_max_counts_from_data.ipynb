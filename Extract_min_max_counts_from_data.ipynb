{
 "cells": [
  {
   "cell_type": "code",
   "execution_count": 2,
   "metadata": {},
   "outputs": [],
   "source": [
    "import pandas as pd"
   ]
  },
  {
   "cell_type": "code",
   "execution_count": null,
   "metadata": {},
   "outputs": [],
   "source": [
    "mutation_counts = pd.read_csv('mutation_counts/TCGA/WES_TCGA.96.csv')\n",
    "# reformat mutation name \n",
    "mutation_counts['mutation_name'] = mutation_counts.Trinucleotide.str[0]+'['+mutation_counts['Mutation type'].str[:]+']'+mutation_counts.Trinucleotide.str[-1]\n",
    "mutation_counts.set_index('mutation_name', inplace=True)\n",
    "mutation_counts.drop(columns=['Mutation type', 'Trinucleotide'], inplace=True)\n",
    "mutation_counts =  mutation_counts.T\n",
    "\n",
    "mutation_counts = mutation_counts.assign(cancer_type=mutation_counts.index.to_series().str.split(\"::\").str[0])\n",
    "mutation_counts_means = mutation_counts.groupby('cancer_type').mean()\n",
    "\n",
    "mutation_counts_medians = mutation_counts.groupby('cancer_type').median()\n",
    "mutation_counts_medians.head()"
   ]
  },
  {
   "cell_type": "code",
   "execution_count": null,
   "metadata": {},
   "outputs": [],
   "source": [
    "mutation_counts['total_counts'] = mutation_counts[list(mutation_counts.columns[1:96])].sum(axis=1)\n",
    "mutation_counts.head()"
   ]
  },
  {
   "cell_type": "code",
   "execution_count": 5,
   "metadata": {},
   "outputs": [],
   "source": [
    "id_max = mutation_counts.groupby('cancer_type')['total_counts'].idxmax()\n",
    "mutation_counts_max = mutation_counts.loc[id_max]\n",
    "id_min = mutation_counts.groupby('cancer_type')['total_counts'].idxmin()\n",
    "mutation_counts_min = mutation_counts.loc[id_min]"
   ]
  },
  {
   "cell_type": "code",
   "execution_count": null,
   "metadata": {},
   "outputs": [],
   "source": [
    "# mutation_counts_min = mutation_counts_min.reset_index()[['cancer_type', 'total_counts']]\n",
    "mutation_counts_min = mutation_counts_min.set_index('cancer_type')\n",
    "# mutation_counts_max = mutation_counts_max.reset_index()[['cancer_type', 'total_counts']]\n",
    "mutation_counts_max = mutation_counts_max.set_index('cancer_type')\n",
    "mutation_counts_max.head()"
   ]
  },
  {
   "cell_type": "code",
   "execution_count": null,
   "metadata": {},
   "outputs": [],
   "source": [
    "mutation_counts_min_max = pd.DataFrame()\n",
    "mutation_counts_min_max.insert(0, 'max_counts', mutation_counts_max['total_counts'])\n",
    "mutation_counts_min_max = mutation_counts_min_max.rename({'total_counts': 'max_counts'})\n",
    "# mutation_counts_min_max = mutation_counts_min_max.set_index('cancer_type')\n",
    "mutation_counts_min_max.head()"
   ]
  },
  {
   "cell_type": "code",
   "execution_count": null,
   "metadata": {},
   "outputs": [],
   "source": [
    "mutation_counts_min_max.insert(1, 'min_counts', mutation_counts_min['total_counts'])\n",
    "mutation_counts_min_max.head()"
   ]
  },
  {
   "cell_type": "code",
   "execution_count": null,
   "metadata": {},
   "outputs": [],
   "source": [
    "# mutation_counts_min_max.columns = ['max_counts', 'min_counts']\n",
    "# mutation_counts_min_max = mutation_counts_min_max.drop([0])\n",
    "mutation_counts_min_max.head()"
   ]
  },
  {
   "cell_type": "code",
   "execution_count": 10,
   "metadata": {},
   "outputs": [],
   "source": [
    "mutation_counts_min_max.to_csv('mutation_counts/TCGA/WES_TCGA.96_min_max.csv', index=True)"
   ]
  },
  {
   "cell_type": "code",
   "execution_count": null,
   "metadata": {},
   "outputs": [],
   "source": [
    "print(mutation_counts_min_max.shape[0])\n",
    "mutation_counts_min_max.loc[2, 'min_counts']"
   ]
  }
 ],
 "metadata": {
  "kernelspec": {
   "display_name": "venv",
   "language": "python",
   "name": "python3"
  },
  "language_info": {
   "codemirror_mode": {
    "name": "ipython",
    "version": 3
   },
   "file_extension": ".py",
   "mimetype": "text/x-python",
   "name": "python",
   "nbconvert_exporter": "python",
   "pygments_lexer": "ipython3",
   "version": "3.12.0"
  }
 },
 "nbformat": 4,
 "nbformat_minor": 2
}
